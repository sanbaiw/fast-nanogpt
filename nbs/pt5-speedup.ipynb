{
 "cells": [
  {
   "cell_type": "code",
   "execution_count": null,
   "metadata": {},
   "outputs": [],
   "source": [
    "#| default_exp speedup"
   ]
  },
  {
   "cell_type": "code",
   "execution_count": 7,
   "metadata": {},
   "outputs": [],
   "source": [
    "#| export\n",
    "import random, math, torch, numpy as np, matplotlib.pyplot as plt\n",
    "from tinyai.learner import *\n",
    "from tinyai.model import *\n",
    "from tinyai.hooks import *\n",
    "from tinyai.init import *\n",
    "import fastcore.all as fc\n",
    "from functools import partial\n",
    "import time"
   ]
  },
  {
   "cell_type": "code",
   "execution_count": 2,
   "metadata": {},
   "outputs": [],
   "source": [
    "import torch\n",
    "import torch.nn as nn\n",
    "import torch.nn.functional as F\n",
    "import torch.optim as optim"
   ]
  },
  {
   "cell_type": "code",
   "execution_count": 3,
   "metadata": {},
   "outputs": [],
   "source": [
    "import tiktoken\n",
    "import os\n",
    "\n",
    "enc = tiktoken.get_encoding(\"gpt2\")\n",
    "\n",
    "def get_tokens(input_file):\n",
    "    with open(input_file) as f:\n",
    "        text = f.read()\n",
    "    tokens = enc.encode(text)\n",
    "    return tokens\n",
    "\n",
    "cwd = os.getcwd()\n",
    "input_file = f\"{cwd}/fast-nanogpt/input.txt\"\n",
    "tokens = get_tokens(input_file)[:20000]\n",
    "train, valid = tokens[:int(len(tokens)*0.8)], tokens[int(len(tokens)*0.8):]"
   ]
  },
  {
   "cell_type": "code",
   "execution_count": 4,
   "metadata": {},
   "outputs": [
    {
     "data": {
      "text/plain": [
       "(torch.Size([4, 512]), torch.Size([4, 512]), 31, 8)"
      ]
     },
     "execution_count": 4,
     "metadata": {},
     "output_type": "execute_result"
    }
   ],
   "source": [
    "tds = DataSet(torch.tensor(train), T=512)\n",
    "# vds = DataSet(torch.tensor(valid))\n",
    "dls = DataLoaders.from_dd([tds, None], batch_size=4)\n",
    "# dls = DataLoaders.from_dd([tds, vds], batch_size=4)\n",
    "x, y = next(iter(dls.train))\n",
    "x.shape, y.shape, len(tds), len(dls.train)"
   ]
  },
  {
   "cell_type": "code",
   "execution_count": 21,
   "metadata": {},
   "outputs": [],
   "source": [
    "stats = ActivationStats(fc.risinstance(Block))\n",
    "cbs = [TrainCB(), InitWeightsCB(), DeviceCB(), MetricsCB(), ProgressCB()]\n",
    "def fit(model, epochs=1, xtra_cbs=None):\n",
    "    lrn = Learner(model, dls=dls, opt_func=optim.AdamW, cbs=cbs + fc.L(xtra_cbs), lr=3e-4)\n",
    "    lrn.fit(epochs, valid=False)\n",
    "    return lrn"
   ]
  },
  {
   "cell_type": "code",
   "execution_count": 22,
   "metadata": {},
   "outputs": [],
   "source": [
    "import time\n",
    "\n",
    "\n",
    "class TimeCallback(Callback):\n",
    "    def before_batch(self, learn):\n",
    "        self.t0 = time.time()\n",
    "\n",
    "    def after_batch(self, learn):\n",
    "        t1 = time.time()\n",
    "        dt = (t1 - self.t0) * 1000\n",
    "        x, _ = learn.batch\n",
    "        tokens_per_sec = x.shape[0] * x.shape[1] / (t1 - self.t0)\n",
    "        print(f\"step {learn.iter}, loss: {learn.loss.item():.2f}, time: {dt:.2f}msi, tok/sec: {tokens_per_sec:.0f}\")"
   ]
  },
  {
   "cell_type": "markdown",
   "metadata": {},
   "source": [
    "## Baseline"
   ]
  },
  {
   "cell_type": "code",
   "execution_count": 10,
   "metadata": {},
   "outputs": [
    {
     "data": {
      "text/html": [
       "\n",
       "<style>\n",
       "    /* Turns off some styling */\n",
       "    progress {\n",
       "        /* gets rid of default border in Firefox and Opera. */\n",
       "        border: none;\n",
       "        /* Needs to be in here for Safari polyfill so background images work as expected. */\n",
       "        background-size: auto;\n",
       "    }\n",
       "    progress:not([value]), progress:not([value])::-webkit-progress-bar {\n",
       "        background: repeating-linear-gradient(45deg, #7e7e7e, #7e7e7e 10px, #5c5c5c 10px, #5c5c5c 20px);\n",
       "    }\n",
       "    .progress-bar-interrupted, .progress-bar-interrupted::-webkit-progress-bar {\n",
       "        background: #F44336;\n",
       "    }\n",
       "</style>\n"
      ],
      "text/plain": [
       "<IPython.core.display.HTML object>"
      ]
     },
     "metadata": {},
     "output_type": "display_data"
    },
    {
     "data": {
      "text/html": [
       "<table border=\"1\" class=\"dataframe\">\n",
       "  <thead>\n",
       "    <tr style=\"text-align: left;\">\n",
       "      <th>loss</th>\n",
       "      <th>epoch</th>\n",
       "      <th>train</th>\n",
       "    </tr>\n",
       "  </thead>\n",
       "  <tbody>\n",
       "    <tr>\n",
       "      <td>9.016</td>\n",
       "      <td>0</td>\n",
       "      <td>train</td>\n",
       "    </tr>\n",
       "  </tbody>\n",
       "</table>"
      ],
      "text/plain": [
       "<IPython.core.display.HTML object>"
      ]
     },
     "metadata": {},
     "output_type": "display_data"
    },
    {
     "name": "stdout",
     "output_type": "stream",
     "text": [
      "step 0, loss: 10.95, time: 1522.80msi, tok/sec: 1345\n",
      "step 1, loss: 9.47, time: 479.22msi, tok/sec: 4274\n",
      "step 2, loss: 9.20, time: 496.17msi, tok/sec: 4128\n",
      "step 3, loss: 8.89, time: 484.28msi, tok/sec: 4229\n",
      "step 4, loss: 8.75, time: 488.27msi, tok/sec: 4194\n",
      "step 5, loss: 8.46, time: 484.12msi, tok/sec: 4230\n",
      "step 6, loss: 8.13, time: 487.60msi, tok/sec: 4200\n",
      "step 7, loss: 8.04, time: 374.17msi, tok/sec: 4105\n"
     ]
    },
    {
     "data": {
      "text/plain": [
       "<tinyai.learner.Learner at 0x7efde1c87070>"
      ]
     },
     "execution_count": 10,
     "metadata": {},
     "output_type": "execute_result"
    }
   ],
   "source": [
    "set_seed(1337)\n",
    "model = get_model()\n",
    "fit(model, xtra_cbs=[TimeCallback()])"
   ]
  },
  {
   "cell_type": "markdown",
   "metadata": {},
   "source": [
    "## TODO: what are dtypes\n",
    "1. a100 architecture ref\n",
    "2. auto mixed precision ref"
   ]
  },
  {
   "cell_type": "code",
   "execution_count": null,
   "metadata": {},
   "outputs": [],
   "source": [
    "# Use TensorFloat32\n",
    "# Only available for Ampere GPUs\n",
    "torch.set_float32_matmul_precision('high')"
   ]
  },
  {
   "cell_type": "code",
   "execution_count": 18,
   "metadata": {},
   "outputs": [],
   "source": [
    "clean_mem()"
   ]
  },
  {
   "cell_type": "markdown",
   "metadata": {},
   "source": [
    "## TODO: compile\n",
    "1. gelu example\n",
    "2. why compile? explain hbm to sm round trip\n",
    "3. trouble shooting, no speed up for old cards"
   ]
  },
  {
   "cell_type": "code",
   "execution_count": 19,
   "metadata": {},
   "outputs": [],
   "source": [
    "model1 = get_model()\n",
    "model1 = torch.compile(model1, fullgraph=True)"
   ]
  },
  {
   "cell_type": "code",
   "execution_count": 23,
   "metadata": {},
   "outputs": [
    {
     "data": {
      "text/html": [
       "\n",
       "<style>\n",
       "    /* Turns off some styling */\n",
       "    progress {\n",
       "        /* gets rid of default border in Firefox and Opera. */\n",
       "        border: none;\n",
       "        /* Needs to be in here for Safari polyfill so background images work as expected. */\n",
       "        background-size: auto;\n",
       "    }\n",
       "    progress:not([value]), progress:not([value])::-webkit-progress-bar {\n",
       "        background: repeating-linear-gradient(45deg, #7e7e7e, #7e7e7e 10px, #5c5c5c 10px, #5c5c5c 20px);\n",
       "    }\n",
       "    .progress-bar-interrupted, .progress-bar-interrupted::-webkit-progress-bar {\n",
       "        background: #F44336;\n",
       "    }\n",
       "</style>\n"
      ],
      "text/plain": [
       "<IPython.core.display.HTML object>"
      ]
     },
     "metadata": {},
     "output_type": "display_data"
    },
    {
     "data": {
      "text/html": [
       "<table border=\"1\" class=\"dataframe\">\n",
       "  <thead>\n",
       "    <tr style=\"text-align: left;\">\n",
       "      <th>loss</th>\n",
       "      <th>epoch</th>\n",
       "      <th>train</th>\n",
       "    </tr>\n",
       "  </thead>\n",
       "  <tbody>\n",
       "    <tr>\n",
       "      <td>8.896</td>\n",
       "      <td>0</td>\n",
       "      <td>train</td>\n",
       "    </tr>\n",
       "  </tbody>\n",
       "</table>"
      ],
      "text/plain": [
       "<IPython.core.display.HTML object>"
      ]
     },
     "metadata": {},
     "output_type": "display_data"
    },
    {
     "name": "stdout",
     "output_type": "stream",
     "text": [
      "step 0, loss: 10.91, time: 40303.59msi, tok/sec: 51\n",
      "step 1, loss: 9.42, time: 462.27msi, tok/sec: 4430\n",
      "step 2, loss: 8.97, time: 477.25msi, tok/sec: 4291\n",
      "step 3, loss: 8.66, time: 465.62msi, tok/sec: 4398\n",
      "step 4, loss: 8.54, time: 471.61msi, tok/sec: 4343\n",
      "step 5, loss: 8.38, time: 472.55msi, tok/sec: 4334\n",
      "step 6, loss: 8.06, time: 468.77msi, tok/sec: 4369\n",
      "step 7, loss: 8.01, time: 367.74msi, tok/sec: 4177\n"
     ]
    },
    {
     "data": {
      "text/plain": [
       "<tinyai.learner.Learner at 0x7fa3cd55b0d0>"
      ]
     },
     "execution_count": 23,
     "metadata": {},
     "output_type": "execute_result"
    }
   ],
   "source": [
    "fit(model1, xtra_cbs=[TimeCallback()])"
   ]
  },
  {
   "cell_type": "markdown",
   "metadata": {},
   "source": [
    "compile primarily helps with memory bandwidth bound workloads by reducing data round trips between HBM and SM, in which case SM is so fast that it keeps waiting for data to arrive from HBM. Older cards may not see much speed up because they are slow on computation.\n",
    "\n",
    "See https://huggingface.co/docs/transformers/perf_torch_compile for compile speed up benchmarks."
   ]
  }
 ],
 "metadata": {
  "kernelspec": {
   "display_name": "Python 3 (ipykernel)",
   "language": "python",
   "name": "python3"
  },
  "language_info": {
   "codemirror_mode": {
    "name": "ipython",
    "version": 3
   },
   "file_extension": ".py",
   "mimetype": "text/x-python",
   "name": "python",
   "nbconvert_exporter": "python",
   "pygments_lexer": "ipython3",
   "version": "3.10.14"
  }
 },
 "nbformat": 4,
 "nbformat_minor": 2
}
