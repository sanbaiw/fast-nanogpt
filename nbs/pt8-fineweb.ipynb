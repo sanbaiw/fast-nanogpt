{
 "cells": [
  {
   "cell_type": "code",
   "execution_count": null,
   "metadata": {},
   "outputs": [],
   "source": [
    "#| default_exp fineweb"
   ]
  },
  {
   "cell_type": "code",
   "execution_count": null,
   "metadata": {},
   "outputs": [],
   "source": [
    "from datasets import load_dataset\n",
    "import os\n",
    "import numpy as np"
   ]
  },
  {
   "cell_type": "code",
   "execution_count": 7,
   "metadata": {},
   "outputs": [],
   "source": [
    "data_dir = os.getenv(\"DATA_DIR\", None) or \"./edu_fineweb10B\"\n",
    "cache_dir = os.getenv(\"CACHE_DIR\", None) # default to ~/.cache/huggingface/datasets\n",
    "os.makedirs(data_dir, exist_ok=True)"
   ]
  },
  {
   "cell_type": "code",
   "execution_count": 8,
   "metadata": {},
   "outputs": [],
   "source": [
    "remote_name = \"sample-10BT\""
   ]
  },
  {
   "cell_type": "code",
   "execution_count": 9,
   "metadata": {},
   "outputs": [
    {
     "data": {
      "application/vnd.jupyter.widget-view+json": {
       "model_id": "28567f364b284dd78cb684a43b6e0b00",
       "version_major": 2,
       "version_minor": 0
      },
      "text/plain": [
       "Resolving data files:   0%|          | 0/1630 [00:00<?, ?it/s]"
      ]
     },
     "metadata": {},
     "output_type": "display_data"
    },
    {
     "data": {
      "application/vnd.jupyter.widget-view+json": {
       "model_id": "eac2b3a669174e6ea6369998b03ddf51",
       "version_major": 2,
       "version_minor": 0
      },
      "text/plain": [
       "Loading dataset shards:   0%|          | 0/98 [00:00<?, ?it/s]"
      ]
     },
     "metadata": {},
     "output_type": "display_data"
    },
    {
     "data": {
      "text/plain": [
       "(Dataset({\n",
       "     features: ['text', 'id', 'dump', 'url', 'file_path', 'language', 'language_score', 'token_count', 'score', 'int_score'],\n",
       "     num_rows: 9672101\n",
       " }),\n",
       " 9672101)"
      ]
     },
     "execution_count": 9,
     "metadata": {},
     "output_type": "execute_result"
    }
   ],
   "source": [
    "fw = load_dataset(\"HuggingFaceFW/fineweb-edu\", name=remote_name, split=\"train\", cache_dir=cache_dir)\n",
    "fw, len(fw)"
   ]
  },
  {
   "cell_type": "markdown",
   "metadata": {},
   "source": []
  },
  {
   "cell_type": "code",
   "execution_count": 10,
   "metadata": {},
   "outputs": [
    {
     "name": "stdout",
     "output_type": "stream",
     "text": [
      "{'dump': 'CC-MAIN-2013-20',\n",
      " 'file_path': 's3://commoncrawl/crawl-data/CC-MAIN-2013-20/segments/1368696381249/warc/CC-MAIN-20130516092621-00000-ip-10-60-113-184.ec2.internal.warc.gz',\n",
      " 'id': '<urn:uuid:0d8a309d-25c5-405d-a08a-c11239f0d717>',\n",
      " 'int_score': 3,\n",
      " 'language': 'en',\n",
      " 'language_score': 0.9743200540542603,\n",
      " 'score': 2.75,\n",
      " 'text': 'The Independent Jane\\n'\n",
      "         'For all the love, romance and scandal in Jane Austen’s books, what '\n",
      "         'they are really about is freedom and independence. Independence of '\n",
      "         'thought and the freedom to choose.\\n'\n",
      "         'Elizabeth’s refusal of Mr. Collins offer of marriage showed an '\n",
      "         'independence seldom seen in heroines of the day. Her refusal of Mr. '\n",
      "         'Darcy while triggered by anger showed a level of independence that '\n",
      "         'left him shocked and stunned.\\n'\n",
      "         'The freedom she exhibited in finally accepting him in direct '\n",
      "         'defiance of Lady Catherine and knowing her father would disapprove '\n",
      "         'was unusual even for Austen. In her last book Anne Elliot is '\n",
      "         'persuaded to refuse Captain Wentworth at Lady Russel’s insistence.\\n'\n",
      "         'Although Jane played by the rules of the day, all of her writing is '\n",
      "         'infused with how she wanted life to be. She ‘screams’ her outrage at '\n",
      "         'the limitations for women in Emma.\\n'\n",
      "         'When accosted by Mrs. Elton, Jane Fairfax says,\\n'\n",
      "         '“Excuse me, ma’am, but this is by no means my intention; I make no '\n",
      "         'inquiry myself, and should be sorry to have any made by my friends. '\n",
      "         'When I am quite determined as to the time, I am not at all afraid of '\n",
      "         'being long unemployed. There are places in town, offices, where '\n",
      "         'inquiry would soon produce something — offices for the sale, not '\n",
      "         'quite of human flesh, but of human intellect.”\\n'\n",
      "         '“Oh! my dear, human flesh! You quite shock me; if you mean a fling '\n",
      "         'at the slave-trade, I assure you Mr. Suckling was always rather a '\n",
      "         'friend to the abolition.”\\n'\n",
      "         '“I did not mean, I was not thinking of the slave-trade,” replied '\n",
      "         'Jane; “governess-trade, I assure you, was all that I had in view; '\n",
      "         'widely different certainly, as to the guilt of those who carry it '\n",
      "         'on; but as to the greater misery of the victims, I do not know where '\n",
      "         'it lies.”\\n'\n",
      "         'That same sentiment is emphasized in Emma’s shock when Mrs. Weston '\n",
      "         'tells her of Frank Churchill’s secret engagement to Jane.\\n'\n",
      "         '“Good God!” cried Emma, “Jane actually on the point of going as '\n",
      "         'governess! What could he mean by such horrible indelicacy? To suffer '\n",
      "         'her to engage herself — to suffer her even to think of such a '\n",
      "         'measure!”\\n'\n",
      "         'I find it interesting that at the moment of Austen’s birth or there '\n",
      "         'about, John Adams left his farm in Massachusetts for the Continental '\n",
      "         'Congress in Philadelphia. Doesn’t sound particularly interesting, I '\n",
      "         'know but consider this.\\n'\n",
      "         'John Adams left his home in mid-December 1775 to attend an '\n",
      "         'unprecedented meeting of colonial representatives to consider '\n",
      "         'severing ties with their mother country and her monarch; a decision '\n",
      "         'that culminated in a document unlike any ever written. In the mother '\n",
      "         'country, one day in that same cold December a baby girl was born at '\n",
      "         'Steventon Rectory. Her cry was heard by only the people in the house '\n",
      "         'but the years to come would see her pen create works unlike any the '\n",
      "         'world had ever seen.\\n'\n",
      "         'Comparing Austen’s words with Thomas Jefferson’s may seem a '\n",
      "         'trivialization but I believe that Austen’s impact on the world is no '\n",
      "         'less important than Jefferson’s. The effect of Jane’s writing maybe '\n",
      "         'more subtle than that of the Virginian but it is no less '\n",
      "         'influential.\\n'\n",
      "         'Jefferson’s words instigated and promoted a revolution, a war of '\n",
      "         'independence. Jane’s words had no such excessive consequence. Still '\n",
      "         'in her own quiet, genteel yet powerful way she declared and promoted '\n",
      "         'the same principles of freedom and self-regulated independence as '\n",
      "         'our American forefathers. In all her novels Jane advocates '\n",
      "         'independence of person and thought, the rights of all and acceptance '\n",
      "         'of responsibility for those rights.\\n'\n",
      "         'Jane may not have incited military action as Jefferson did but even '\n",
      "         'as an avowed royalist, I doubt not that Jane Austen firmly believed '\n",
      "         'in his declaration of the right to life, liberty and the pursuit of '\n",
      "         'happiness.',\n",
      " 'token_count': 845,\n",
      " 'url': 'http://austenauthors.net/the-independent-jane'}\n"
     ]
    }
   ],
   "source": [
    "import pprint\n",
    "pprint.pprint(fw[0])"
   ]
  },
  {
   "cell_type": "code",
   "execution_count": 12,
   "metadata": {},
   "outputs": [],
   "source": [
    "# | export\n",
    "import tiktoken\n",
    "gpt2_encoder = tiktoken.get_encoding(\"gpt2\")\n",
    "eot = gpt2_encoder._special_tokens[\"<|endoftext|>\"]  # end of text token\n",
    "\n",
    "\n",
    "# tokenize a single document and returns a numpy array of uint16 tokens\n",
    "def to_tokens_np(doc):\n",
    "    tokens = [eot]  # eot separates documents, so every sequence starts with eot\n",
    "    tokens.extend(gpt2_encoder.encode_ordinary(doc[\"text\"]))  # ignore special tokens\n",
    "    tokens_np = np.array(tokens, dtype=np.uint16)\n",
    "    return tokens_np\n",
    "\n",
    "def load_np_tokens(input_file):\n",
    "    tokens = np.load(input_file)\n",
    "    tokens = tokens.astype(np.int32)\n",
    "    return tokens"
   ]
  },
  {
   "cell_type": "code",
   "execution_count": 13,
   "metadata": {},
   "outputs": [
    {
     "data": {
      "text/plain": [
       "(array([50256,   464, 13362, 12091,   198,  1890,   477,   262,  1842,\n",
       "           11], dtype=uint16),\n",
       " 50256)"
      ]
     },
     "execution_count": 13,
     "metadata": {},
     "output_type": "execute_result"
    }
   ],
   "source": [
    "to_tokens_np(fw[0])[:10], eot"
   ]
  },
  {
   "cell_type": "code",
   "execution_count": 14,
   "metadata": {},
   "outputs": [],
   "source": [
    "# | export\n",
    "import numpy as np\n",
    "import os\n",
    "from tqdm import tqdm\n",
    "\n",
    "\n",
    "class DataDirNotEmptyError(Exception):\n",
    "    pass\n",
    "\n",
    "\n",
    "class TokenShardWriter:\n",
    "    def __init__(self, shard_size=2**20, data_dir=\".\", overwrite=False):\n",
    "        self.shard_size = shard_size\n",
    "        self.shard_index = 0\n",
    "        self.tokens_buffer = np.empty((shard_size), dtype=np.uint16)\n",
    "        self.shard_token_count = 0  # number of tokens in the current shard\n",
    "        self.pbar = None\n",
    "        self.data_dir = data_dir\n",
    "        self.overwrite = overwrite\n",
    "\n",
    "    def __enter__(self):\n",
    "        return self\n",
    "\n",
    "    def __exit__(self, exc_type, exc_value, traceback):\n",
    "        self.clear_buffer()\n",
    "        if self.pbar is not None:\n",
    "            self.pbar.close()\n",
    "\n",
    "    def write(self, tokens):\n",
    "        if not self.overwrite and os.listdir(self.data_dir):\n",
    "            raise DataDirNotEmptyError(\"Data directory is not empty\")\n",
    "        return self._write_shard(tokens)\n",
    "\n",
    "    def _write_shard(self, tokens):\n",
    "        # current shard has enough space for incoming tokens\n",
    "        if len(tokens) + self.shard_token_count <= self.shard_size:\n",
    "            self.tokens_buffer[\n",
    "                self.shard_token_count : self.shard_token_count + len(tokens)\n",
    "            ] = tokens\n",
    "            self.shard_token_count += len(tokens)\n",
    "            if self.pbar is None:\n",
    "                self.pbar = tqdm(\n",
    "                    total=self.shard_size,\n",
    "                    unit=\"tokens\",\n",
    "                    desc=f\"Shard {self.shard_index}\",\n",
    "                )\n",
    "            self.pbar.update(len(tokens))\n",
    "            return\n",
    "\n",
    "        # current shard has not enough space\n",
    "        split = (\n",
    "            \"val\" if self.shard_index == 0 else \"train\"\n",
    "        )  # first shard is val, the rest is train\n",
    "        filename = os.path.join(self.data_dir, f\"{split}_{self.shard_index:06d}.npy\")\n",
    "        remainder = self.shard_size - self.shard_token_count\n",
    "        # fill the current shard\n",
    "        self.tokens_buffer[\n",
    "            self.shard_token_count : self.shard_token_count + remainder\n",
    "        ] = tokens[:remainder]\n",
    "        self.pbar.update(remainder)\n",
    "        self.dump_tokens_np(filename, self.tokens_buffer)\n",
    "        # start a new shard\n",
    "        self.pbar.close()\n",
    "        self.shard_index += 1\n",
    "        # add the remaining tokens to the new shard\n",
    "        self.tokens_buffer[: len(tokens) - remainder] = tokens[remainder:]\n",
    "        self.shard_token_count = len(tokens) - remainder\n",
    "        self.pbar = tqdm(\n",
    "            total=self.shard_size,\n",
    "            unit=\"tokens\",\n",
    "            desc=f\"Shard {self.shard_index}\",\n",
    "        )\n",
    "        self.pbar.update(self.shard_token_count)\n",
    "\n",
    "    def clear_buffer(self):\n",
    "        if self.shard_token_count > 0:\n",
    "            split = \"val\" if self.shard_index == 0 else \"train\"\n",
    "            filename = os.path.join(\n",
    "                self.data_dir, f\"{split}_{self.shard_index:06d}.npy\"\n",
    "            )\n",
    "            self.dump_tokens_np(filename, self.tokens_buffer[: self.shard_token_count])\n",
    "            self.shard_token_count = 0\n",
    "\n",
    "    def dump_tokens_np(self, filename, tokens):\n",
    "        np.save(filename, tokens)"
   ]
  },
  {
   "cell_type": "code",
   "execution_count": 15,
   "metadata": {},
   "outputs": [],
   "source": [
    "import multiprocessing as mp"
   ]
  },
  {
   "cell_type": "code",
   "execution_count": 17,
   "metadata": {},
   "outputs": [
    {
     "name": "stdout",
     "output_type": "stream",
     "text": [
      "Data directory is not empty, skipping\n"
     ]
    }
   ],
   "source": [
    "nproc = max(1, mp.cpu_count() // 2)\n",
    "\n",
    "try:\n",
    "    with TokenShardWriter(int(1e8), data_dir=data_dir) as wrt:\n",
    "        with mp.Pool(nproc) as pool:\n",
    "            for tokens in pool.imap(to_tokens_np, fw, chunksize=16):\n",
    "                wrt.write(tokens)\n",
    "except DataDirNotEmptyError:\n",
    "    print(\"Data directory is not empty, skipping\")\n",
    "    pass"
   ]
  }
 ],
 "metadata": {
  "kernelspec": {
   "display_name": "Python 3 (ipykernel)",
   "language": "python",
   "name": "python3"
  },
  "language_info": {
   "codemirror_mode": {
    "name": "ipython",
    "version": 3
   },
   "file_extension": ".py",
   "mimetype": "text/x-python",
   "name": "python",
   "nbconvert_exporter": "python",
   "pygments_lexer": "ipython3",
   "version": "3.10.14"
  }
 },
 "nbformat": 4,
 "nbformat_minor": 4
}
