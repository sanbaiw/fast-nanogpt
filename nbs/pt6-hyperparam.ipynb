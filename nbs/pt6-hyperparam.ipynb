{
 "cells": [
  {
   "cell_type": "code",
   "execution_count": 1,
   "metadata": {},
   "outputs": [],
   "source": [
    "#| default_exp hyperparam"
   ]
  },
  {
   "cell_type": "code",
   "execution_count": 2,
   "metadata": {},
   "outputs": [],
   "source": [
    "#| export\n",
    "import random, math, torch, numpy as np, matplotlib.pyplot as plt\n",
    "from tinyai.model import *\n",
    "from tinyai.learner import *\n",
    "from tinyai.hooks import *\n",
    "from tinyai.init import *\n",
    "from tinyai.speedup import *\n",
    "import fastcore.all as fc\n",
    "from functools import partial\n",
    "import time"
   ]
  },
  {
   "cell_type": "code",
   "execution_count": 3,
   "metadata": {},
   "outputs": [],
   "source": [
    "#| export\n",
    "import torch\n",
    "import torch.nn as nn\n",
    "import torch.nn.functional as F\n",
    "import torch.optim as optim"
   ]
  },
  {
   "cell_type": "code",
   "execution_count": 4,
   "metadata": {},
   "outputs": [],
   "source": [
    "import tiktoken\n",
    "import os\n",
    "\n",
    "enc = tiktoken.get_encoding(\"gpt2\")\n",
    "\n",
    "def get_tokens(input_file):\n",
    "    with open(input_file) as f:\n",
    "        text = f.read()\n",
    "    tokens = enc.encode(text)\n",
    "    return tokens\n",
    "\n",
    "cwd = os.getcwd()\n",
    "input_file = f\"{cwd}/fast-nanogpt/input.txt\"\n",
    "tokens = get_tokens(input_file)\n",
    "train, valid = tokens[:int(len(tokens)*0.8)], tokens[int(len(tokens)*0.8):]"
   ]
  },
  {
   "cell_type": "code",
   "execution_count": 5,
   "metadata": {},
   "outputs": [],
   "source": [
    "class LoopingDataSet:\n",
    "    def __init__(self, tokens, n=500, T=32):\n",
    "        self.tokens = tokens\n",
    "        self.T = T\n",
    "        self.n = n\n",
    "        self.current_pos = 0\n",
    "\n",
    "    def __len__(self):\n",
    "        return self.n\n",
    "\n",
    "    def __getitem__(self, i):\n",
    "        if self.current_pos + self.T + 1 >= len(self.tokens):\n",
    "            self.current_pos = 0\n",
    "\n",
    "        x = self.tokens[self.current_pos : self.current_pos + self.T]\n",
    "        y = self.tokens[self.current_pos + 1 : self.current_pos + self.T + 1]\n",
    "        self.current_pos += self.T\n",
    "        return x, y"
   ]
  },
  {
   "cell_type": "code",
   "execution_count": 6,
   "metadata": {},
   "outputs": [
    {
     "data": {
      "text/plain": [
       "(torch.Size([4, 512]), torch.Size([4, 512]), 200, 50)"
      ]
     },
     "execution_count": 6,
     "metadata": {},
     "output_type": "execute_result"
    }
   ],
   "source": [
    "tds = LoopingDataSet(torch.tensor(train), n=200, T=512)\n",
    "# vds = DataSet(torch.tensor(valid))\n",
    "dls = DataLoaders.from_dd([tds, None], batch_size=4)\n",
    "# dls = DataLoaders.from_dd([tds, vds], batch_size=4)\n",
    "x, y = next(iter(dls.train))\n",
    "x.shape, y.shape, len(tds), len(dls.train)"
   ]
  },
  {
   "cell_type": "markdown",
   "metadata": {},
   "source": [
    "## Adam optimizer, and gradient clipping\n",
    "GPT-2 weights are available, but the paper does not say much about training. GPT-3 paper provides more details about training, but the weights are not available. The two models have similar architecture, so we can use GP-3 training details to train GPT-2.\n",
    "> To train all versions of GPT-3, we use Adam with β1 = 0.9, β2 = 0.95, and = 10−8, we clip the global norm of the gradient at 1.0"
   ]
  },
  {
   "cell_type": "code",
   "execution_count": 7,
   "metadata": {},
   "outputs": [],
   "source": [
    "admw = partial(optim.AdamW, betas=(0.9, 0.95), eps=1e-8)"
   ]
  },
  {
   "cell_type": "markdown",
   "metadata": {},
   "source": [
    "By clip the global norm, it means that we take the norm of all the gradients and if it is greater than a certain value, we scale all the gradients so that the norm is equal to the value we want. This is a way to prevent the gradients from exploding. "
   ]
  },
  {
   "cell_type": "code",
   "execution_count": 8,
   "metadata": {},
   "outputs": [
    {
     "data": {
      "text/plain": [
       "(tensor([-4., -3., -2., -1.,  0.,  1.,  2.,  3.,  4.], dtype=torch.float64),\n",
       " tensor(7.7460, dtype=torch.float64),\n",
       " tensor(7.7460, dtype=torch.float64))"
      ]
     },
     "execution_count": 8,
     "metadata": {},
     "output_type": "execute_result"
    }
   ],
   "source": [
    "from torch.linalg import vector_norm\n",
    "grads = torch.arange(9, dtype=float) - 4\n",
    "norm = grads.square().sum().sqrt()\n",
    "grads, norm, vector_norm(grads)"
   ]
  },
  {
   "cell_type": "code",
   "execution_count": 9,
   "metadata": {},
   "outputs": [
    {
     "data": {
      "text/plain": [
       "(tensor(0.1291, dtype=torch.float64),\n",
       " tensor([-0.5164, -0.3873, -0.2582, -0.1291,  0.0000,  0.1291,  0.2582,  0.3873,\n",
       "          0.5164], dtype=torch.float64),\n",
       " tensor(1.0000, dtype=torch.float64))"
      ]
     },
     "execution_count": 9,
     "metadata": {},
     "output_type": "execute_result"
    }
   ],
   "source": [
    "max_grad_norm = 1.0\n",
    "coeff = max_grad_norm / (norm + 1e-6)\n",
    "coeff = torch.clamp(coeff, max=1.0)\n",
    "coeff, grads * coeff, vector_norm(grads * coeff)"
   ]
  },
  {
   "cell_type": "code",
   "execution_count": 10,
   "metadata": {},
   "outputs": [],
   "source": [
    "#| export\n",
    "class NormGradTrainCB(MixedPrecisionTrainCB):\n",
    "\n",
    "    def backward(self, learn):\n",
    "        learn.loss.backward()\n",
    "        learn.grad_nom = nn.utils.clip_grad_norm_(learn.model.parameters(), 1.0)\n"
   ]
  },
  {
   "cell_type": "markdown",
   "metadata": {},
   "source": [
    "## Learning rate schedule\n",
    "> and we use cosine decay for learning rate down to 10% of its value, over 260 billion tokens (after 260 billion tokens, training continues at 10% of the original learning rate). There is a linear LR warmup over the first 375 million tokens."
   ]
  },
  {
   "cell_type": "code",
   "execution_count": 11,
   "metadata": {},
   "outputs": [],
   "source": [
    "def plot_func(func, x_range=(-2, 2), n_points=100):\n",
    "    x = np.linspace(x_range[0], x_range[1], n_points)\n",
    "    y = [func(i) for i in x]\n",
    "    plt.plot(x, y)\n",
    "    # plt.show()"
   ]
  },
  {
   "cell_type": "code",
   "execution_count": 12,
   "metadata": {},
   "outputs": [
    {
     "data": {
      "image/png": "[encoded data removed]",
      "text/plain": [
       "<Figure size 640x480 with 1 Axes>"
      ]
     },
     "metadata": {},
     "output_type": "display_data"
    }
   ],
   "source": [
    "plot_func(lambda x: math.cos(math.pi * x), (0,  1))"
   ]
  },
  {
   "cell_type": "code",
   "execution_count": 13,
   "metadata": {},
   "outputs": [
    {
     "data": {
      "image/png": "[encoded data removed]",
      "text/plain": [
       "<Figure size 640x480 with 1 Axes>"
      ]
     },
     "metadata": {},
     "output_type": "display_data"
    }
   ],
   "source": [
    "plot_func(lambda x: 0.5 * (1.0 + math.cos(math.pi * x)), (0,  1))"
   ]
  },
  {
   "cell_type": "code",
   "execution_count": 14,
   "metadata": {},
   "outputs": [],
   "source": [
    "#| export\n",
    "def get_lr(step, max_lr, min_lr, warmup_steps, max_steps):\n",
    "    # linear warmup stage\n",
    "    if step < warmup_steps:\n",
    "        step = max(1, step)\n",
    "        # there is no point of 0 lr even in the first step\n",
    "        return max_lr * step / warmup_steps\n",
    "\n",
    "    # steps exceeding annealing stage are clamped to min_lr\n",
    "    if step > max_steps:\n",
    "        return min_lr\n",
    "\n",
    "    # cosine decay\n",
    "    decay_ratio = (step - warmup_steps) / (max_steps - warmup_steps)\n",
    "    decay_ratio = min(max(0.0, decay_ratio), 1.0)\n",
    "    coeff = 0.5 * (1.0 + math.cos(math.pi * decay_ratio)) # coefficent starts from 1 and goes to 0\n",
    "\n",
    "    return min_lr + (max_lr - min_lr) * coeff"
   ]
  },
  {
   "cell_type": "code",
   "execution_count": 15,
   "metadata": {},
   "outputs": [
    {
     "data": {
      "image/png": "[encoded data removed]",
      "text/plain": [
       "<Figure size 640x480 with 1 Axes>"
      ]
     },
     "metadata": {},
     "output_type": "display_data"
    }
   ],
   "source": [
    "max_lr = 6e-4\n",
    "min_lr = max_lr * 0.1\n",
    "warmup_steps = 10\n",
    "n = 50\n",
    "plot_func(\n",
    "    lambda x: partial(\n",
    "        get_lr,\n",
    "        max_lr=max_lr,\n",
    "        min_lr=min_lr,\n",
    "        warmup_steps=1000,\n",
    "        max_steps=5000,\n",
    "    )(x),\n",
    "    (1, 5000),\n",
    "    5000,\n",
    ")"
   ]
  },
  {
   "cell_type": "code",
   "execution_count": 16,
   "metadata": {},
   "outputs": [],
   "source": [
    "#| export\n",
    "class CosineLR(torch.optim.lr_scheduler.LRScheduler):\n",
    "    def __init__( self, optimizer, warmup_steps, max_steps, ratio=0.1, last_epoch=-1, verbose=False):\n",
    "        self.max_lr = optimizer.param_groups[0][\"lr\"]\n",
    "        self.min_lr = self.max_lr * ratio\n",
    "        self.warmup_steps = warmup_steps\n",
    "        self.max_steps = max_steps\n",
    "        super().__init__(optimizer=optimizer, last_epoch=last_epoch, verbose=verbose)\n",
    "\n",
    "    def get_lr(self):\n",
    "        return [\n",
    "            get_lr(\n",
    "                self._step_count,\n",
    "                self.max_lr,\n",
    "                self.min_lr,\n",
    "                self.warmup_steps,\n",
    "                self.max_steps,\n",
    "            )\n",
    "            for base_lr in self.base_lrs\n",
    "        ]"
   ]
  },
  {
   "cell_type": "code",
   "execution_count": 17,
   "metadata": {},
   "outputs": [],
   "source": [
    "#| export\n",
    "class BatchScheduleCB(Callback):\n",
    "    order = 1\n",
    "\n",
    "    def __init__(self, schedule_fn):\n",
    "        self.schedule_fn = schedule_fn\n",
    "\n",
    "    def before_fit(self, learn):\n",
    "        learn.sched = self.schedule_fn(learn.opt)\n",
    "\n",
    "    def after_batch(self, learn):\n",
    "        # scheduler step after the optimizer step\n",
    "        learn.sched.step()"
   ]
  },
  {
   "cell_type": "code",
   "execution_count": 18,
   "metadata": {},
   "outputs": [],
   "source": [
    "#| export\n",
    "class RecordCB(Callback):\n",
    "\n",
    "    def __init__(self, **d):\n",
    "        # d is a dictionary of items to record and functions to calculate them\n",
    "        self.d = d\n",
    "\n",
    "    def before_fit(self, learn):\n",
    "        self.recs = {k: [] for k in self.d.keys()}\n",
    "\n",
    "    def after_batch(self, learn):\n",
    "        if not learn.training:\n",
    "            return\n",
    "        for k, v in self.d.items():\n",
    "            self.recs[k].append(v(self, learn))\n",
    "    \n",
    "    def plot(self):\n",
    "        for k, v in self.recs.items():\n",
    "            plt.plot(v, label=k)\n",
    "            plt.legend()\n",
    "            plt.show()"
   ]
  },
  {
   "cell_type": "code",
   "execution_count": 19,
   "metadata": {},
   "outputs": [],
   "source": [
    "#| export\n",
    "def get_learner_lr(cb, learn):\n",
    "    return learn.opt.param_groups[0][\"lr\"]"
   ]
  },
  {
   "cell_type": "code",
   "execution_count": 20,
   "metadata": {},
   "outputs": [],
   "source": [
    "#| export\n",
    "def get_learner_grad_norm(cb, learn):\n",
    "    return learn.grad_nom.detach().cpu()"
   ]
  },
  {
   "cell_type": "code",
   "execution_count": 21,
   "metadata": {},
   "outputs": [],
   "source": [
    "cbs = [NormGradTrainCB(), InitWeightsCB(), DeviceCB(), MetricsCB(), ProgressCB()]\n",
    "def fit(model, epochs=1, opt_func=optim.AdamW, xtra_cbs=None, lr=3e-4):\n",
    "    lrn = Learner(model, dls=dls, opt_func=opt_func, cbs=cbs + fc.L(xtra_cbs), lr=lr)\n",
    "    lrn.fit(epochs, valid=False)\n",
    "    return lrn"
   ]
  },
  {
   "cell_type": "code",
   "execution_count": 22,
   "metadata": {},
   "outputs": [],
   "source": [
    "set_seed(1337)"
   ]
  },
  {
   "cell_type": "code",
   "execution_count": 23,
   "metadata": {},
   "outputs": [
    {
     "data": {
      "text/html": [
       "\n",
       "<style>\n",
       "    /* Turns off some styling */\n",
       "    progress {\n",
       "        /* gets rid of default border in Firefox and Opera. */\n",
       "        border: none;\n",
       "        /* Needs to be in here for Safari polyfill so background images work as expected. */\n",
       "        background-size: auto;\n",
       "    }\n",
       "    progress:not([value]), progress:not([value])::-webkit-progress-bar {\n",
       "        background: repeating-linear-gradient(45deg, #7e7e7e, #7e7e7e 10px, #5c5c5c 10px, #5c5c5c 20px);\n",
       "    }\n",
       "    .progress-bar-interrupted, .progress-bar-interrupted::-webkit-progress-bar {\n",
       "        background: #F44336;\n",
       "    }\n",
       "</style>\n"
      ],
      "text/plain": [
       "<IPython.core.display.HTML object>"
      ]
     },
     "metadata": {},
     "output_type": "display_data"
    },
    {
     "data": {
      "text/html": [
       "<table border=\"1\" class=\"dataframe\">\n",
       "  <thead>\n",
       "    <tr style=\"text-align: left;\">\n",
       "      <th>loss</th>\n",
       "      <th>epoch</th>\n",
       "      <th>train</th>\n",
       "    </tr>\n",
       "  </thead>\n",
       "  <tbody>\n",
       "    <tr>\n",
       "      <td>7.219</td>\n",
       "      <td>0</td>\n",
       "      <td>train</td>\n",
       "    </tr>\n",
       "  </tbody>\n",
       "</table>"
      ],
      "text/plain": [
       "<IPython.core.display.HTML object>"
      ]
     },
     "metadata": {},
     "output_type": "display_data"
    },
    {
     "name": "stdout",
     "output_type": "stream",
     "text": [
      "step 0, loss: 10.96, time: 916.77msi, tok/sec: 2234\n",
      "step 1, loss: 9.65, time: 151.05msi, tok/sec: 13558\n",
      "step 2, loss: 9.22, time: 152.62msi, tok/sec: 13419\n",
      "step 3, loss: 9.71, time: 152.26msi, tok/sec: 13451\n",
      "step 4, loss: 9.18, time: 150.53msi, tok/sec: 13606\n",
      "step 5, loss: 8.80, time: 153.98msi, tok/sec: 13300\n",
      "step 6, loss: 8.78, time: 151.26msi, tok/sec: 13539\n",
      "step 7, loss: 8.49, time: 151.99msi, tok/sec: 13475\n",
      "step 8, loss: 8.27, time: 152.96msi, tok/sec: 13389\n",
      "step 9, loss: 8.09, time: 150.43msi, tok/sec: 13614\n",
      "step 10, loss: 7.64, time: 152.65msi, tok/sec: 13417\n",
      "step 11, loss: 7.69, time: 151.71msi, tok/sec: 13499\n",
      "step 12, loss: 7.42, time: 150.10msi, tok/sec: 13644\n",
      "step 13, loss: 7.34, time: 153.14msi, tok/sec: 13374\n",
      "step 14, loss: 6.99, time: 151.51msi, tok/sec: 13517\n",
      "step 15, loss: 7.21, time: 152.42msi, tok/sec: 13437\n",
      "step 16, loss: 6.69, time: 153.13msi, tok/sec: 13374\n",
      "step 17, loss: 6.65, time: 151.72msi, tok/sec: 13498\n",
      "step 18, loss: 6.53, time: 153.73msi, tok/sec: 13322\n",
      "step 19, loss: 6.75, time: 152.88msi, tok/sec: 13396\n",
      "step 20, loss: 6.54, time: 150.63msi, tok/sec: 13596\n",
      "step 21, loss: 6.48, time: 153.59msi, tok/sec: 13334\n",
      "step 22, loss: 6.99, time: 153.83msi, tok/sec: 13313\n",
      "step 23, loss: 7.11, time: 150.94msi, tok/sec: 13568\n",
      "step 24, loss: 6.90, time: 152.63msi, tok/sec: 13418\n",
      "step 25, loss: 6.86, time: 153.04msi, tok/sec: 13382\n",
      "step 26, loss: 6.93, time: 152.04msi, tok/sec: 13470\n",
      "step 27, loss: 6.70, time: 153.74msi, tok/sec: 13321\n",
      "step 28, loss: 6.41, time: 153.85msi, tok/sec: 13312\n",
      "step 29, loss: 6.56, time: 151.32msi, tok/sec: 13535\n",
      "step 30, loss: 6.61, time: 152.55msi, tok/sec: 13425\n",
      "step 31, loss: 6.54, time: 154.36msi, tok/sec: 13267\n",
      "step 32, loss: 6.37, time: 151.75msi, tok/sec: 13496\n",
      "step 33, loss: 6.31, time: 152.86msi, tok/sec: 13398\n",
      "step 34, loss: 6.23, time: 152.16msi, tok/sec: 13460\n",
      "step 35, loss: 6.50, time: 150.78msi, tok/sec: 13583\n",
      "step 36, loss: 6.45, time: 155.45msi, tok/sec: 13175\n",
      "step 37, loss: 6.41, time: 153.01msi, tok/sec: 13385\n",
      "step 38, loss: 6.57, time: 151.15msi, tok/sec: 13549\n",
      "step 39, loss: 6.78, time: 155.64msi, tok/sec: 13159\n",
      "step 40, loss: 6.70, time: 154.48msi, tok/sec: 13257\n",
      "step 41, loss: 6.63, time: 151.58msi, tok/sec: 13511\n",
      "step 42, loss: 6.49, time: 151.93msi, tok/sec: 13480\n",
      "step 43, loss: 6.62, time: 154.83msi, tok/sec: 13227\n",
      "step 44, loss: 6.55, time: 151.68msi, tok/sec: 13502\n",
      "step 45, loss: 6.61, time: 152.48msi, tok/sec: 13431\n",
      "step 46, loss: 6.78, time: 153.74msi, tok/sec: 13321\n",
      "step 47, loss: 6.71, time: 150.45msi, tok/sec: 13612\n",
      "step 48, loss: 6.79, time: 153.72msi, tok/sec: 13323\n",
      "step 49, loss: 6.75, time: 153.45msi, tok/sec: 13346\n"
     ]
    },
    {
     "data": {
      "text/plain": [
       "<tinyai.learner.Learner at 0x7f7c13c73b80>"
      ]
     },
     "execution_count": 23,
     "metadata": {},
     "output_type": "execute_result"
    }
   ],
   "source": [
    "model = get_model()\n",
    "record = RecordCB(lr=get_learner_lr, grad_norm=get_learner_grad_norm)\n",
    "schd = BatchScheduleCB(partial(CosineLR, warmup_steps=10, max_steps=50))\n",
    "fit(model, opt_func=admw, xtra_cbs=[record, schd, TimeCallback()], lr=6e-4)"
   ]
  },
  {
   "cell_type": "code",
   "execution_count": 24,
   "metadata": {},
   "outputs": [
    {
     "data": {
      "image/png": "[encoded data removed]",
      "text/plain": [
       "<Figure size 640x480 with 1 Axes>"
      ]
     },
     "metadata": {},
     "output_type": "display_data"
    },
    {
     "data": {
      "image/png": "[encoded data removed]",
      "text/plain": [
       "<Figure size 640x480 with 1 Axes>"
      ]
     },
     "metadata": {},
     "output_type": "display_data"
    }
   ],
   "source": [
    "record.plot()"
   ]
  },
  {
   "cell_type": "code",
   "execution_count": 25,
   "metadata": {},
   "outputs": [
    {
     "data": {
      "text/plain": [
       "5.9999999999999995e-05"
      ]
     },
     "execution_count": 25,
     "metadata": {},
     "output_type": "execute_result"
    }
   ],
   "source": [
    "record.recs[\"lr\"][0]"
   ]
  },
  {
   "cell_type": "markdown",
   "metadata": {},
   "source": [
    "## Weight decay\n",
    "> All models use weight decay of 0.1 to provide a small amount of regularization\n",
    "\n",
    "Parameters should be considered as two groups: those should be weight decayed, and those should be not.\n",
    "\n",
    "It is common to not apply weight decay to:\n",
    "1. Biases\n",
    "2. Any 1-D layers\n",
    "3. LayerNorm\n",
    "\n",
    "And apply weight decay to:\n",
    "1. Weights that participate in matrix multiplication (typically linear layers)\n",
    "2. Embeddings"
   ]
  },
  {
   "cell_type": "markdown",
   "metadata": {},
   "source": [
    "Weight decay is a form of L2 regularization, and it is applied to the loss function as:\n",
    "$$ L_{\\text{total}} = L_{\\text{loss}} + \\lambda \\sum_{i} w_i^2 $$\n",
    "where $L_{\\text{loss}}$ is the loss function, $\\lambda$ is the weight decay rate, and $w_i$ are the weights that should be decayed.\n",
    "\n",
    "In practice the optimizer updates the weights as:\n",
    "$$ w_i = w_i - \\alpha \\frac{\\partial L_{\\text{loss}}}{\\partial w_i} - \\alpha \\lambda w_i $$\n",
    "where $\\alpha$ is the learning rate.\n",
    "\n",
    "And why is that?\n",
    "\n",
    "Consider how we would update the weights in the optimizer:\n",
    "$$ w_i = w_i - \\alpha \\frac{\\partial L_{\\text{total}}}{\\partial w_i} $$\n",
    "By adding the regularization term, if we take the derivative of the total loss with respect to the weights, we get:\n",
    "$$ \\frac{\\partial L_{\\text{total}}}{\\partial w_i} = \\frac{\\partial L_{\\text{loss}}}{\\partial w_i} + \\frac{\\partial (\\lambda \\sum_{i} w_i^2)}{\\partial w_i} $$\n",
    "Since we are taking the partial derivative of the sum with respect to $w_i$, other weights has no effect on the derivative, so we get: $2 \\lambda w_i$ and $\\lambda$ is just a constant, so we can simply make it twice as big."
   ]
  },
  {
   "cell_type": "markdown",
   "metadata": {},
   "source": []
  },
  {
   "cell_type": "code",
   "execution_count": 26,
   "metadata": {},
   "outputs": [
    {
     "name": "stdout",
     "output_type": "stream",
     "text": [
      "transformer.wte.weight torch.Size([50304, 768])\n",
      "transformer.wpe.weight torch.Size([1024, 768])\n",
      "transformer.h.0.ln_1.weight torch.Size([768])\n",
      "transformer.h.0.ln_1.bias torch.Size([768])\n",
      "transformer.h.0.attn.c_attn.weight torch.Size([2304, 768])\n",
      "transformer.h.0.attn.c_attn.bias torch.Size([2304])\n",
      "transformer.h.0.attn.c_proj.weight torch.Size([768, 768])\n",
      "transformer.h.0.attn.c_proj.bias torch.Size([768])\n",
      "transformer.h.0.ln_2.weight torch.Size([768])\n",
      "transformer.h.0.ln_2.bias torch.Size([768])\n",
      "transformer.h.0.mlp.c_fc.weight torch.Size([3072, 768])\n",
      "transformer.h.0.mlp.c_fc.bias torch.Size([3072])\n",
      "transformer.h.0.mlp.c_proj.weight torch.Size([768, 3072])\n",
      "transformer.h.0.mlp.c_proj.bias torch.Size([768])\n",
      "transformer.h.1.ln_1.weight torch.Size([768])\n",
      "transformer.h.1.ln_1.bias torch.Size([768])\n",
      "transformer.h.1.attn.c_attn.weight torch.Size([2304, 768])\n",
      "transformer.h.1.attn.c_attn.bias torch.Size([2304])\n",
      "transformer.h.1.attn.c_proj.weight torch.Size([768, 768])\n",
      "transformer.h.1.attn.c_proj.bias torch.Size([768])\n",
      "transformer.h.1.ln_2.weight torch.Size([768])\n",
      "transformer.h.1.ln_2.bias torch.Size([768])\n",
      "transformer.h.1.mlp.c_fc.weight torch.Size([3072, 768])\n",
      "transformer.h.1.mlp.c_fc.bias torch.Size([3072])\n",
      "transformer.h.1.mlp.c_proj.weight torch.Size([768, 3072])\n",
      "transformer.h.1.mlp.c_proj.bias torch.Size([768])\n",
      "transformer.h.2.ln_1.weight torch.Size([768])\n",
      "transformer.h.2.ln_1.bias torch.Size([768])\n",
      "transformer.h.2.attn.c_attn.weight torch.Size([2304, 768])\n",
      "transformer.h.2.attn.c_attn.bias torch.Size([2304])\n",
      "transformer.h.2.attn.c_proj.weight torch.Size([768, 768])\n",
      "transformer.h.2.attn.c_proj.bias torch.Size([768])\n",
      "transformer.h.2.ln_2.weight torch.Size([768])\n",
      "transformer.h.2.ln_2.bias torch.Size([768])\n",
      "transformer.h.2.mlp.c_fc.weight torch.Size([3072, 768])\n",
      "transformer.h.2.mlp.c_fc.bias torch.Size([3072])\n",
      "transformer.h.2.mlp.c_proj.weight torch.Size([768, 3072])\n",
      "transformer.h.2.mlp.c_proj.bias torch.Size([768])\n",
      "transformer.h.3.ln_1.weight torch.Size([768])\n",
      "transformer.h.3.ln_1.bias torch.Size([768])\n",
      "transformer.h.3.attn.c_attn.weight torch.Size([2304, 768])\n",
      "transformer.h.3.attn.c_attn.bias torch.Size([2304])\n",
      "transformer.h.3.attn.c_proj.weight torch.Size([768, 768])\n",
      "transformer.h.3.attn.c_proj.bias torch.Size([768])\n",
      "transformer.h.3.ln_2.weight torch.Size([768])\n",
      "transformer.h.3.ln_2.bias torch.Size([768])\n",
      "transformer.h.3.mlp.c_fc.weight torch.Size([3072, 768])\n",
      "transformer.h.3.mlp.c_fc.bias torch.Size([3072])\n",
      "transformer.h.3.mlp.c_proj.weight torch.Size([768, 3072])\n",
      "transformer.h.3.mlp.c_proj.bias torch.Size([768])\n",
      "transformer.h.4.ln_1.weight torch.Size([768])\n",
      "transformer.h.4.ln_1.bias torch.Size([768])\n",
      "transformer.h.4.attn.c_attn.weight torch.Size([2304, 768])\n",
      "transformer.h.4.attn.c_attn.bias torch.Size([2304])\n",
      "transformer.h.4.attn.c_proj.weight torch.Size([768, 768])\n",
      "transformer.h.4.attn.c_proj.bias torch.Size([768])\n",
      "transformer.h.4.ln_2.weight torch.Size([768])\n",
      "transformer.h.4.ln_2.bias torch.Size([768])\n",
      "transformer.h.4.mlp.c_fc.weight torch.Size([3072, 768])\n",
      "transformer.h.4.mlp.c_fc.bias torch.Size([3072])\n",
      "transformer.h.4.mlp.c_proj.weight torch.Size([768, 3072])\n",
      "transformer.h.4.mlp.c_proj.bias torch.Size([768])\n",
      "transformer.h.5.ln_1.weight torch.Size([768])\n",
      "transformer.h.5.ln_1.bias torch.Size([768])\n",
      "transformer.h.5.attn.c_attn.weight torch.Size([2304, 768])\n",
      "transformer.h.5.attn.c_attn.bias torch.Size([2304])\n",
      "transformer.h.5.attn.c_proj.weight torch.Size([768, 768])\n",
      "transformer.h.5.attn.c_proj.bias torch.Size([768])\n",
      "transformer.h.5.ln_2.weight torch.Size([768])\n",
      "transformer.h.5.ln_2.bias torch.Size([768])\n",
      "transformer.h.5.mlp.c_fc.weight torch.Size([3072, 768])\n",
      "transformer.h.5.mlp.c_fc.bias torch.Size([3072])\n",
      "transformer.h.5.mlp.c_proj.weight torch.Size([768, 3072])\n",
      "transformer.h.5.mlp.c_proj.bias torch.Size([768])\n",
      "transformer.h.6.ln_1.weight torch.Size([768])\n",
      "transformer.h.6.ln_1.bias torch.Size([768])\n",
      "transformer.h.6.attn.c_attn.weight torch.Size([2304, 768])\n",
      "transformer.h.6.attn.c_attn.bias torch.Size([2304])\n",
      "transformer.h.6.attn.c_proj.weight torch.Size([768, 768])\n",
      "transformer.h.6.attn.c_proj.bias torch.Size([768])\n",
      "transformer.h.6.ln_2.weight torch.Size([768])\n",
      "transformer.h.6.ln_2.bias torch.Size([768])\n",
      "transformer.h.6.mlp.c_fc.weight torch.Size([3072, 768])\n",
      "transformer.h.6.mlp.c_fc.bias torch.Size([3072])\n",
      "transformer.h.6.mlp.c_proj.weight torch.Size([768, 3072])\n",
      "transformer.h.6.mlp.c_proj.bias torch.Size([768])\n",
      "transformer.h.7.ln_1.weight torch.Size([768])\n",
      "transformer.h.7.ln_1.bias torch.Size([768])\n",
      "transformer.h.7.attn.c_attn.weight torch.Size([2304, 768])\n",
      "transformer.h.7.attn.c_attn.bias torch.Size([2304])\n",
      "transformer.h.7.attn.c_proj.weight torch.Size([768, 768])\n",
      "transformer.h.7.attn.c_proj.bias torch.Size([768])\n",
      "transformer.h.7.ln_2.weight torch.Size([768])\n",
      "transformer.h.7.ln_2.bias torch.Size([768])\n",
      "transformer.h.7.mlp.c_fc.weight torch.Size([3072, 768])\n",
      "transformer.h.7.mlp.c_fc.bias torch.Size([3072])\n",
      "transformer.h.7.mlp.c_proj.weight torch.Size([768, 3072])\n",
      "transformer.h.7.mlp.c_proj.bias torch.Size([768])\n",
      "transformer.h.8.ln_1.weight torch.Size([768])\n",
      "transformer.h.8.ln_1.bias torch.Size([768])\n",
      "transformer.h.8.attn.c_attn.weight torch.Size([2304, 768])\n",
      "transformer.h.8.attn.c_attn.bias torch.Size([2304])\n",
      "transformer.h.8.attn.c_proj.weight torch.Size([768, 768])\n",
      "transformer.h.8.attn.c_proj.bias torch.Size([768])\n",
      "transformer.h.8.ln_2.weight torch.Size([768])\n",
      "transformer.h.8.ln_2.bias torch.Size([768])\n",
      "transformer.h.8.mlp.c_fc.weight torch.Size([3072, 768])\n",
      "transformer.h.8.mlp.c_fc.bias torch.Size([3072])\n",
      "transformer.h.8.mlp.c_proj.weight torch.Size([768, 3072])\n",
      "transformer.h.8.mlp.c_proj.bias torch.Size([768])\n",
      "transformer.h.9.ln_1.weight torch.Size([768])\n",
      "transformer.h.9.ln_1.bias torch.Size([768])\n",
      "transformer.h.9.attn.c_attn.weight torch.Size([2304, 768])\n",
      "transformer.h.9.attn.c_attn.bias torch.Size([2304])\n",
      "transformer.h.9.attn.c_proj.weight torch.Size([768, 768])\n",
      "transformer.h.9.attn.c_proj.bias torch.Size([768])\n",
      "transformer.h.9.ln_2.weight torch.Size([768])\n",
      "transformer.h.9.ln_2.bias torch.Size([768])\n",
      "transformer.h.9.mlp.c_fc.weight torch.Size([3072, 768])\n",
      "transformer.h.9.mlp.c_fc.bias torch.Size([3072])\n",
      "transformer.h.9.mlp.c_proj.weight torch.Size([768, 3072])\n",
      "transformer.h.9.mlp.c_proj.bias torch.Size([768])\n",
      "transformer.h.10.ln_1.weight torch.Size([768])\n",
      "transformer.h.10.ln_1.bias torch.Size([768])\n",
      "transformer.h.10.attn.c_attn.weight torch.Size([2304, 768])\n",
      "transformer.h.10.attn.c_attn.bias torch.Size([2304])\n",
      "transformer.h.10.attn.c_proj.weight torch.Size([768, 768])\n",
      "transformer.h.10.attn.c_proj.bias torch.Size([768])\n",
      "transformer.h.10.ln_2.weight torch.Size([768])\n",
      "transformer.h.10.ln_2.bias torch.Size([768])\n",
      "transformer.h.10.mlp.c_fc.weight torch.Size([3072, 768])\n",
      "transformer.h.10.mlp.c_fc.bias torch.Size([3072])\n",
      "transformer.h.10.mlp.c_proj.weight torch.Size([768, 3072])\n",
      "transformer.h.10.mlp.c_proj.bias torch.Size([768])\n",
      "transformer.h.11.ln_1.weight torch.Size([768])\n",
      "transformer.h.11.ln_1.bias torch.Size([768])\n",
      "transformer.h.11.attn.c_attn.weight torch.Size([2304, 768])\n",
      "transformer.h.11.attn.c_attn.bias torch.Size([2304])\n",
      "transformer.h.11.attn.c_proj.weight torch.Size([768, 768])\n",
      "transformer.h.11.attn.c_proj.bias torch.Size([768])\n",
      "transformer.h.11.ln_2.weight torch.Size([768])\n",
      "transformer.h.11.ln_2.bias torch.Size([768])\n",
      "transformer.h.11.mlp.c_fc.weight torch.Size([3072, 768])\n",
      "transformer.h.11.mlp.c_fc.bias torch.Size([3072])\n",
      "transformer.h.11.mlp.c_proj.weight torch.Size([768, 3072])\n",
      "transformer.h.11.mlp.c_proj.bias torch.Size([768])\n",
      "transformer.ln_f.weight torch.Size([768])\n",
      "transformer.ln_f.bias torch.Size([768])\n"
     ]
    }
   ],
   "source": [
    "for pn, p in model.named_parameters():\n",
    "    print(pn, p.shape)"
   ]
  },
  {
   "cell_type": "code",
   "execution_count": 27,
   "metadata": {},
   "outputs": [
    {
     "name": "stdout",
     "output_type": "stream",
     "text": [
      "num decayed parameter tensors: 50, with 124,354,560 parameters\n",
      "num non-decayed parameter tensors: 98, with 121,344 parameters\n"
     ]
    }
   ],
   "source": [
    "param_dict = {pn: p for pn, p in model.named_parameters()}\n",
    "param_dict = {pn: p for pn, p in param_dict.items() if p.requires_grad}\n",
    "decay_params = [p for n, p in param_dict.items() if p.dim() >= 2]\n",
    "nodecay_params = [p for n, p in param_dict.items() if p.dim() < 2]\n",
    "num_decay_params = sum(p.numel() for p in decay_params)\n",
    "num_nodecay_params = sum(p.numel() for p in nodecay_params)\n",
    "print(\n",
    "    f\"num decayed parameter tensors: {len(decay_params)}, with {num_decay_params:,} parameters\"\n",
    ")\n",
    "print(\n",
    "    f\"num non-decayed parameter tensors: {len(nodecay_params)}, with {num_nodecay_params:,} parameters\"\n",
    ")"
   ]
  },
  {
   "cell_type": "code",
   "execution_count": 28,
   "metadata": {},
   "outputs": [
    {
     "name": "stdout",
     "output_type": "stream",
     "text": [
      "num decayed parameter tensors: 50, with 124,354,560 parameters\n",
      "num non-decayed parameter tensors: 98, with 121,344 parameters\n"
     ]
    }
   ],
   "source": [
    "params = list(model.parameters())\n",
    "decay_params = [p for p in params if p.dim() >= 2]\n",
    "nodecay_params = [p for p in params if p.dim() < 2]\n",
    "num_decay_params = sum(p.numel() for p in decay_params)\n",
    "num_nodecay_params = sum(p.numel() for p in nodecay_params)\n",
    "print(\n",
    "    f\"num decayed parameter tensors: {len(decay_params)}, with {num_decay_params:,} parameters\"\n",
    ")\n",
    "print(\n",
    "    f\"num non-decayed parameter tensors: {len(nodecay_params)}, with {num_nodecay_params:,} parameters\"\n",
    ")"
   ]
  },
  {
   "cell_type": "code",
   "execution_count": 29,
   "metadata": {},
   "outputs": [],
   "source": [
    "del model\n",
    "clean_mem()"
   ]
  },
  {
   "cell_type": "code",
   "execution_count": 30,
   "metadata": {},
   "outputs": [],
   "source": [
    "#| export\n",
    "import inspect\n",
    "\n",
    "use_fused_adam = (\n",
    "    \"cuda\" == default_device and \"fused\" in inspect.signature(optim.AdamW).parameters\n",
    ")"
   ]
  },
  {
   "cell_type": "code",
   "execution_count": 31,
   "metadata": {},
   "outputs": [
    {
     "data": {
      "text/plain": [
       "True"
      ]
     },
     "execution_count": 31,
     "metadata": {},
     "output_type": "execute_result"
    }
   ],
   "source": [
    "use_fused_adam"
   ]
  },
  {
   "cell_type": "code",
   "execution_count": 32,
   "metadata": {},
   "outputs": [],
   "source": [
    "#| export\n",
    "def get_optimizer(params, lr, weight_decay=0.1, fused=True):\n",
    "    params = [p for p in params if p.requires_grad]\n",
    "    decay_params = [p for p in params if p.dim() >= 2]\n",
    "    nodecay_params = [p for p in params if p.dim() < 2]\n",
    "    optim_groups = [\n",
    "        {'params': decay_params, 'weight_decay': weight_decay},\n",
    "        {'params': nodecay_params, 'weight_decay': 0.0}\n",
    "    ]\n",
    "    return optim.AdamW(optim_groups, lr=lr, betas=(0.9, 0.95), eps=1e-8, fused=fused) "
   ]
  },
  {
   "cell_type": "code",
   "execution_count": 33,
   "metadata": {},
   "outputs": [
    {
     "data": {
      "text/html": [
       "\n",
       "<style>\n",
       "    /* Turns off some styling */\n",
       "    progress {\n",
       "        /* gets rid of default border in Firefox and Opera. */\n",
       "        border: none;\n",
       "        /* Needs to be in here for Safari polyfill so background images work as expected. */\n",
       "        background-size: auto;\n",
       "    }\n",
       "    progress:not([value]), progress:not([value])::-webkit-progress-bar {\n",
       "        background: repeating-linear-gradient(45deg, #7e7e7e, #7e7e7e 10px, #5c5c5c 10px, #5c5c5c 20px);\n",
       "    }\n",
       "    .progress-bar-interrupted, .progress-bar-interrupted::-webkit-progress-bar {\n",
       "        background: #F44336;\n",
       "    }\n",
       "</style>\n"
      ],
      "text/plain": [
       "<IPython.core.display.HTML object>"
      ]
     },
     "metadata": {},
     "output_type": "display_data"
    },
    {
     "data": {
      "text/html": [
       "<table border=\"1\" class=\"dataframe\">\n",
       "  <thead>\n",
       "    <tr style=\"text-align: left;\">\n",
       "      <th>loss</th>\n",
       "      <th>epoch</th>\n",
       "      <th>train</th>\n",
       "    </tr>\n",
       "  </thead>\n",
       "  <tbody>\n",
       "    <tr>\n",
       "      <td>7.206</td>\n",
       "      <td>0</td>\n",
       "      <td>train</td>\n",
       "    </tr>\n",
       "  </tbody>\n",
       "</table>"
      ],
      "text/plain": [
       "<IPython.core.display.HTML object>"
      ]
     },
     "metadata": {},
     "output_type": "display_data"
    },
    {
     "data": {
      "text/plain": [
       "<tinyai.learner.Learner at 0x7f7c13d338e0>"
      ]
     },
     "execution_count": 33,
     "metadata": {},
     "output_type": "execute_result"
    }
   ],
   "source": [
    "# fused adam requires parameters to be on cuda, move model to cuda before creating optimizer\n",
    "model = get_model().to(default_device)\n",
    "record = RecordCB(lr=get_learner_lr, grad_norm=get_learner_grad_norm)\n",
    "schd = BatchScheduleCB(partial(CosineLR, warmup_steps=10, max_steps=50))\n",
    "fit(model, opt_func=get_optimizer, xtra_cbs=[record, schd], lr=6e-4)"
   ]
  },
  {
   "cell_type": "code",
   "execution_count": 34,
   "metadata": {},
   "outputs": [
    {
     "data": {
      "image/png": "[encoded data removed]",
      "text/plain": [
       "<Figure size 640x480 with 1 Axes>"
      ]
     },
     "metadata": {},
     "output_type": "display_data"
    },
    {
     "data": {
      "image/png": "[encoded data removed]",
      "text/plain": [
       "<Figure size 640x480 with 1 Axes>"
      ]
     },
     "metadata": {},
     "output_type": "display_data"
    }
   ],
   "source": [
    "record.plot()"
   ]
  },
  {
   "cell_type": "code",
   "execution_count": 35,
   "metadata": {},
   "outputs": [],
   "source": [
    "del model\n",
    "clean_mem()"
   ]
  },
  {
   "cell_type": "markdown",
   "metadata": {},
   "source": [
    "## Gradient accumulate"
   ]
  },
  {
   "cell_type": "markdown",
   "metadata": {},
   "source": [
    "According to GPT-3 paper, the use batch size of 0.5M tokens. That is impossible to fit into our setting. We can use a technique called gradient accumulation to simulate a larger batch size.\n",
    "The idea is that we run forward and backward passes for multiple batches, each time we run backward pass the gradients are accumulated, after a certain number of batches we update the weights. This way we can simulate a larger batch size without running out of memory."
   ]
  },
  {
   "cell_type": "code",
   "execution_count": 36,
   "metadata": {},
   "outputs": [],
   "source": [
    "net = nn.Sequential(nn.Linear(16, 32), nn.GELU(), nn.Linear(32, 1))\n",
    "xs = torch.randn(4, 16)\n",
    "ys = torch.randn(4, 1)\n",
    "loss_func = nn.MSELoss()"
   ]
  },
  {
   "cell_type": "code",
   "execution_count": 37,
   "metadata": {},
   "outputs": [
    {
     "name": "stdout",
     "output_type": "stream",
     "text": [
      "tensor([-0.0601, -0.1094,  0.0453,  0.0095,  0.0042,  0.0474,  0.1012, -0.0933,\n",
      "        -0.1347,  0.0615,  0.1037,  0.0408, -0.0361,  0.0024,  0.0179, -0.0156])\n"
     ]
    }
   ],
   "source": [
    "net.zero_grad()\n",
    "preds = net(xs)\n",
    "loss = loss_func(preds, ys)\n",
    "loss.backward()\n",
    "\n",
    "print(net[0].weight.grad[0])"
   ]
  },
  {
   "cell_type": "code",
   "execution_count": 38,
   "metadata": {},
   "outputs": [
    {
     "name": "stdout",
     "output_type": "stream",
     "text": [
      "tensor([-0.2405, -0.4375,  0.1813,  0.0381,  0.0170,  0.1896,  0.4049, -0.3733,\n",
      "        -0.5387,  0.2462,  0.4147,  0.1632, -0.1443,  0.0097,  0.0715, -0.0624])\n"
     ]
    }
   ],
   "source": [
    "net.zero_grad()\n",
    "for i in range(4):\n",
    "    preds = net(xs[i])\n",
    "    loss = loss_func(preds, ys[i])\n",
    "    loss.backward()\n",
    "\n",
    "print(net[0].weight.grad[0])"
   ]
  },
  {
   "cell_type": "markdown",
   "metadata": {},
   "source": [
    "These two gradients are not equal, the latter is roughly 4x, why is that?\n",
    "Take a look at the loss function signature:\n",
    "```\n",
    "nn.MSELoss(size_average=None, reduce=None, reduction: str = 'mean') -> None\n",
    "```\n",
    "The default value for `reduction` is `'mean'`, which means the loss is averaged over all the samples. In the second case the normalizer is lost."
   ]
  },
  {
   "cell_type": "code",
   "execution_count": 39,
   "metadata": {},
   "outputs": [
    {
     "name": "stdout",
     "output_type": "stream",
     "text": [
      "tensor([-0.0601, -0.1094,  0.0453,  0.0095,  0.0042,  0.0474,  0.1012, -0.0933,\n",
      "        -0.1347,  0.0615,  0.1037,  0.0408, -0.0361,  0.0024,  0.0179, -0.0156])\n"
     ]
    }
   ],
   "source": [
    "net.zero_grad()\n",
    "for i in range(4):\n",
    "    preds = net(xs[i])\n",
    "    loss = loss_func(preds, ys[i]) / 4\n",
    "    loss.backward()\n",
    "\n",
    "print(net[0].weight.grad[0])"
   ]
  },
  {
   "cell_type": "markdown",
   "metadata": {},
   "source": [
    "By add normalization to the loss function, the normalizer is distributed to the gradients and makes them equal."
   ]
  },
  {
   "cell_type": "code",
   "execution_count": 40,
   "metadata": {},
   "outputs": [],
   "source": [
    "# | export\n",
    "class GradAccuTrainCB(MixedPrecisionTrainCB):\n",
    "\n",
    "    def __init__(self, accu_steps=1):\n",
    "        self.accu_steps = accu_steps\n",
    "\n",
    "    def before_fit(self, learn):\n",
    "        learn._micro_step_count = 0\n",
    "        learn.accu_steps = self.accu_steps\n",
    "\n",
    "    def after_predict(self, learn):\n",
    "        learn.loss = learn.loss / self.accu_steps\n",
    "        learn._micro_step_count += 1\n",
    "\n",
    "    def after_backward(self, learn):\n",
    "        if learn._micro_step_count % learn.accu_steps == 0:\n",
    "            learn.grad_nom = nn.utils.clip_grad_norm_(learn.model.parameters(), 1.0)\n",
    "\n",
    "    def step(self, learn):\n",
    "        if learn._micro_step_count % learn.accu_steps == 0:\n",
    "            super().step(learn)\n",
    "\n",
    "    def zero_grad(self, learn):\n",
    "        if learn._micro_step_count % learn.accu_steps == 0:\n",
    "            super().zero_grad(learn)"
   ]
  },
  {
   "cell_type": "code",
   "execution_count": 41,
   "metadata": {},
   "outputs": [],
   "source": [
    "# | export\n",
    "class GradAccuScheduleCB(BatchScheduleCB):\n",
    "\n",
    "    def after_batch(self, learn):\n",
    "        if hasattr(learn, \"accu_steps\"):\n",
    "            if learn._micro_step_count % learn.accu_steps == 0:\n",
    "                super().after_batch(learn)\n",
    "        else:\n",
    "            super().after_batch(learn)"
   ]
  },
  {
   "cell_type": "code",
   "execution_count": 42,
   "metadata": {},
   "outputs": [],
   "source": [
    "#| export\n",
    "class GradAccuRecordCB(Callback):\n",
    "\n",
    "    def __init__(self, **d):\n",
    "        # d is a dictionary of items to record and functions to calculate them\n",
    "        self.d = d\n",
    "\n",
    "    def before_fit(self, learn):\n",
    "        self.recs = {k: [] for k in self.d.keys()}\n",
    "\n",
    "    def after_batch(self, learn):\n",
    "        if not learn.training:\n",
    "            return\n",
    "        if hasattr(learn, \"accu_steps\"):\n",
    "            if learn._micro_step_count % learn.accu_steps != 0:\n",
    "                return\n",
    "        for k, v in self.d.items():\n",
    "            self.recs[k].append(v(self, learn))\n",
    "    \n",
    "    def plot(self):\n",
    "        for k, v in self.recs.items():\n",
    "            plt.plot(v, label=k)\n",
    "            plt.legend()\n",
    "            plt.show()"
   ]
  },
  {
   "cell_type": "code",
   "execution_count": 43,
   "metadata": {},
   "outputs": [],
   "source": [
    "# | export\n",
    "class GradAccuLogCallback(Callback):\n",
    "    def __init__(self, **d) -> None:\n",
    "        self.d = d\n",
    "\n",
    "    def before_fit(self, learn):\n",
    "        # self.recs = {k: [] for k in self.d.keys()}\n",
    "        self.reset()\n",
    "\n",
    "    def before_batch(self, learn):\n",
    "        if learn._micro_step_count % learn.accu_steps != 0:\n",
    "            return\n",
    "        self.t0 = time.time()\n",
    "        self.loss_accu = 0\n",
    "\n",
    "    def _log(self, d):\n",
    "        d = {k: f\"{v:.4f}\" if not isinstance(v, str) else v for k, v in d.items()}\n",
    "        print(d)\n",
    "\n",
    "    def reset(self):\n",
    "        self.loss_accu = 0\n",
    "\n",
    "    def after_batch(self, learn):\n",
    "        self.loss_accu += learn.loss.detach()\n",
    "        if learn._micro_step_count % learn.accu_steps != 0:\n",
    "            return\n",
    "        torch.cuda.synchronize()  # wait for the GPU to finish work\n",
    "        self.t1 = time.time()\n",
    "\n",
    "        log = {\n",
    "            \"step\": f\"{learn.opt._step_count: 5d}\",\n",
    "            \"time\": f\"{(self.t1 - self.t0) * 1000:.2f}\",\n",
    "        }\n",
    "        log.update({k: v(self, learn) for k, v in self.d.items()})\n",
    "        self._log(log)\n",
    "        self.reset()"
   ]
  },
  {
   "cell_type": "code",
   "execution_count": null,
   "metadata": {},
   "outputs": [],
   "source": []
  },
  {
   "cell_type": "code",
   "execution_count": 44,
   "metadata": {},
   "outputs": [],
   "source": [
    "#| export\n",
    "def get_learner_loss(cb, learn):\n",
    "    return cb.loss_accu\n",
    "\n",
    "def get_tokens_per_sec(cb, learn):\n",
    "    x, _ = learn.batch\n",
    "    return x.shape[0] * x.shape[1] / (cb.t1 - cb.t0) * learn.accu_steps"
   ]
  },
  {
   "cell_type": "code",
   "execution_count": 45,
   "metadata": {},
   "outputs": [
    {
     "data": {
      "text/plain": [
       "(torch.Size([8, 1024]), torch.Size([8, 1024]), 5000, 625)"
      ]
     },
     "execution_count": 45,
     "metadata": {},
     "output_type": "execute_result"
    }
   ],
   "source": [
    "tds = LoopingDataSet(torch.tensor(train), n=5000, T=1024)\n",
    "# vds = DataSet(torch.tensor(valid))\n",
    "dls = DataLoaders.from_dd([tds, None], batch_size=8)\n",
    "x, y = next(iter(dls.train))\n",
    "x.shape, y.shape, len(tds), len(dls.train)"
   ]
  },
  {
   "cell_type": "markdown",
   "metadata": {},
   "source": [
    "we are doing 8 * 1024 = 8192 tokens per batch, so we can accumulate the gradients for 64 batches to simulate a batch size of 0.5M tokens."
   ]
  },
  {
   "cell_type": "code",
   "execution_count": 46,
   "metadata": {},
   "outputs": [
    {
     "name": "stdout",
     "output_type": "stream",
     "text": [
      "{'step': '    1', 'time': '36398.52', 'loss': '10.968640', 'lr': '6.0000e-05', 'norm': '20.6479', 'tok/sec': '11253.2057'}\n",
      "{'step': '    2', 'time': '19818.94', 'loss': '9.546124', 'lr': '1.2000e-04', 'norm': '7.9513', 'tok/sec': '20667.0961'}\n",
      "{'step': '    3', 'time': '19853.09', 'loss': '9.222018', 'lr': '1.8000e-04', 'norm': '5.6941', 'tok/sec': '20631.5473'}\n",
      "{'step': '    4', 'time': '19769.36', 'loss': '9.252250', 'lr': '2.4000e-04', 'norm': '10.7140', 'tok/sec': '20718.9354'}\n",
      "{'step': '    5', 'time': '19670.34', 'loss': '9.474415', 'lr': '3.0000e-04', 'norm': '5.6746', 'tok/sec': '20823.2285'}\n",
      "{'step': '    6', 'time': '19565.00', 'loss': '9.208528', 'lr': '3.6000e-04', 'norm': '4.5249', 'tok/sec': '20935.3421'}\n",
      "{'step': '    7', 'time': '19509.01', 'loss': '8.983006', 'lr': '4.2000e-04', 'norm': '3.9414', 'tok/sec': '20995.4256'}\n",
      "{'step': '    8', 'time': '19343.73', 'loss': '8.784083', 'lr': '4.8000e-04', 'norm': '3.5224', 'tok/sec': '21174.8213'}\n",
      "{'step': '    9', 'time': '19324.00', 'loss': '8.649488', 'lr': '5.4000e-04', 'norm': '3.4539', 'tok/sec': '21196.4421'}\n",
      "{'step': '   10', 'time': '19271.85', 'loss': '8.481245', 'lr': '6.0000e-04', 'norm': '3.4100', 'tok/sec': '21253.7930'}\n",
      "{'step': '   11', 'time': '19178.15', 'loss': '8.358089', 'lr': '5.9917e-04', 'norm': '2.9876', 'tok/sec': '21357.6441'}\n",
      "{'step': '   12', 'time': '19165.14', 'loss': '8.214301', 'lr': '5.9668e-04', 'norm': '3.0352', 'tok/sec': '21372.1340'}\n"
     ]
    },
    {
     "data": {
      "text/plain": [
       "<tinyai.learner.Learner at 0x7f7c13d899f0>"
      ]
     },
     "execution_count": 46,
     "metadata": {},
     "output_type": "execute_result"
    }
   ],
   "source": [
    "grad_accu_steps = 50\n",
    "cbs = [GradAccuTrainCB(grad_accu_steps), InitWeightsCB(), CompileCB(), DeviceCB()]\n",
    "model = get_model().to(default_device)\n",
    "record = GradAccuRecordCB(lr=get_learner_lr, grad_norm=get_learner_grad_norm)\n",
    "schd = GradAccuScheduleCB(partial(CosineLR, warmup_steps=10, max_steps=50))\n",
    "logcb = GradAccuLogCallback(\n",
    "    **{\n",
    "        \"loss\": lambda cb, learn: f\"{get_learner_loss(cb, learn):2.6f}\",\n",
    "        \"lr\": lambda cb, learn: f\"{get_learner_lr(cb ,learn):.4e}\",\n",
    "        \"norm\": get_learner_grad_norm,\n",
    "        \"tok/sec\": get_tokens_per_sec,\n",
    "    }\n",
    ")\n",
    "fit(model, opt_func=get_optimizer, xtra_cbs=[record, schd, logcb], lr=6e-4)"
   ]
  },
  {
   "cell_type": "code",
   "execution_count": 47,
   "metadata": {},
   "outputs": [],
   "source": [
    "del model\n",
    "clean_mem()"
   ]
  },
  {
   "cell_type": "code",
   "execution_count": 48,
   "metadata": {},
   "outputs": [
    {
     "data": {
      "image/png": "[encoded data removed]",
      "text/plain": [
       "<Figure size 640x480 with 1 Axes>"
      ]
     },
     "metadata": {},
     "output_type": "display_data"
    },
    {
     "data": {
      "image/png": "[encoded data removed]",
      "text/plain": [
       "<Figure size 640x480 with 1 Axes>"
      ]
     },
     "metadata": {},
     "output_type": "display_data"
    }
   ],
   "source": [
    "record.plot()"
   ]
  }
 ],
 "metadata": {
  "kernelspec": {
   "display_name": "Python 3 (ipykernel)",
   "language": "python",
   "name": "python3"
  },
  "language_info": {
   "codemirror_mode": {
    "name": "ipython",
    "version": 3
   },
   "file_extension": ".py",
   "mimetype": "text/x-python",
   "name": "python",
   "nbconvert_exporter": "python",
   "pygments_lexer": "ipython3",
   "version": "3.10.14"
  }
 },
 "nbformat": 4,
 "nbformat_minor": 2
}
