{
 "cells": [
  {
   "cell_type": "code",
   "execution_count": null,
   "metadata": {},
   "outputs": [],
   "source": [
    "#| default_exp learner"
   ]
  },
  {
   "cell_type": "code",
   "execution_count": 16,
   "metadata": {},
   "outputs": [],
   "source": [
    "#| export\n",
    "import torch\n",
    "import torch.nn as nn\n",
    "from torch.nn import functional as F\n",
    "from torch.utils.data import DataLoader\n",
    "from torch import optim\n",
    "from typing import Mapping, Any, Tuple, List, Union\n",
    "from copy import copy"
   ]
  },
  {
   "cell_type": "code",
   "execution_count": 2,
   "metadata": {},
   "outputs": [],
   "source": [
    "#| export\n",
    "class DataSet:\n",
    "    def __init__(self, x, y): self.x, self.y = x, y\n",
    "    def __len__(self): return len(self.x)\n",
    "    def __getitem__(self, i): return self.x[i], self.y[i]"
   ]
  },
  {
   "cell_type": "code",
   "execution_count": 3,
   "metadata": {},
   "outputs": [],
   "source": [
    "import os\n",
    "import tiktoken\n",
    "\n",
    "cwd = os.getcwd()\n",
    "\n",
    "denc = tiktoken.get_encoding(\"gpt2\")\n",
    "input_file = f\"{cwd}/fast-nanogpt/input.txt\"\n",
    "with open(input_file) as f:\n",
    "    text = f.read()"
   ]
  },
  {
   "cell_type": "code",
   "execution_count": 4,
   "metadata": {},
   "outputs": [
    {
     "data": {
      "text/plain": [
       "(tensor([ 5962, 22307,    25,   198,  8421,   356,  5120,   597,  2252,    11,\n",
       "          3285,   502,  2740,    13,   198,   198,  3237,    25,   198,  5248,\n",
       "           461,    11,  2740,    13,   198,   198,  5962, 22307,    25,   198,\n",
       "          1639,   389], device='cuda:0'),\n",
       " tensor([22307,    25,   198,  8421,   356,  5120,   597,  2252,    11,  3285,\n",
       "           502,  2740,    13,   198,   198,  3237,    25,   198,  5248,   461,\n",
       "            11,  2740,    13,   198,   198,  5962, 22307,    25,   198,  1639,\n",
       "           389,   477], device='cuda:0'))"
      ]
     },
     "execution_count": 4,
     "metadata": {},
     "output_type": "execute_result"
    }
   ],
   "source": [
    "tokens = denc.encode(text[:1000])\n",
    "B, T = 4, 32\n",
    "buf = torch.tensor(tokens[: B * T + 1]).to('cuda')\n",
    "x = buf[:-1].view(B, T)\n",
    "y = buf[1:].view(B, T)\n",
    "\n",
    "x[0], y[0]"
   ]
  },
  {
   "cell_type": "code",
   "execution_count": 5,
   "metadata": {},
   "outputs": [
    {
     "name": "stdout",
     "output_type": "stream",
     "text": [
      "batch 0\n",
      "x.shape, y.shape torch.Size([4, 32]) torch.Size([4, 32])\n"
     ]
    }
   ],
   "source": [
    "ds = DataSet(x, y)\n",
    "dl = DataLoader(ds, batch_size=4)\n",
    "iterdl = iter(dl)\n",
    "\n",
    "for i, (x, y) in enumerate(iterdl):\n",
    "    print(\"batch\", i)\n",
    "    print(\"x.shape, y.shape\", x.shape, y.shape)"
   ]
  },
  {
   "cell_type": "code",
   "execution_count": 6,
   "metadata": {},
   "outputs": [],
   "source": [
    "#| export\n",
    "class DataLoaders:\n",
    "    def __init__(self, *dls):\n",
    "        self.train, self.valid = dls[:2]\n",
    "    \n",
    "    @classmethod\n",
    "    def from_dd(cls, datasets, batch_size, **kwargs):\n",
    "        return cls(*[DataLoader(ds, batch_size=batch_size, **kwargs) for ds in datasets])"
   ]
  },
  {
   "cell_type": "code",
   "execution_count": 7,
   "metadata": {},
   "outputs": [
    {
     "name": "stdout",
     "output_type": "stream",
     "text": [
      "torch.Size([4, 32]) torch.Size([4, 32])\n"
     ]
    }
   ],
   "source": [
    "dls = DataLoaders.from_dd([ds, None], batch_size=4)\n",
    "for x, y in dls.train:\n",
    "    print(x.shape, y.shape)"
   ]
  },
  {
   "cell_type": "code",
   "execution_count": 8,
   "metadata": {},
   "outputs": [],
   "source": [
    "from tinyai.model import get_model\n",
    "model = get_model().to(\"cuda\")"
   ]
  },
  {
   "cell_type": "markdown",
   "metadata": {},
   "source": [
    "overfit one batch"
   ]
  },
  {
   "cell_type": "code",
   "execution_count": null,
   "metadata": {},
   "outputs": [
    {
     "name": "stdout",
     "output_type": "stream",
     "text": [
      "step 0 loss 10.887170791625977\n",
      "step 1 loss 7.397668838500977\n",
      "step 2 loss 6.109092712402344\n",
      "step 3 loss 5.146890163421631\n",
      "step 4 loss 4.083423137664795\n",
      "step 5 loss 3.532369613647461\n",
      "step 6 loss 3.068758487701416\n",
      "step 7 loss 2.708280563354492\n",
      "step 8 loss 2.4744410514831543\n",
      "step 9 loss 2.2717630863189697\n",
      "step 10 loss 2.0909435749053955\n",
      "step 11 loss 1.949676752090454\n",
      "step 12 loss 1.8371838331222534\n",
      "step 13 loss 1.7458043098449707\n",
      "step 14 loss 1.66878080368042\n",
      "step 15 loss 1.6040171384811401\n",
      "step 16 loss 1.5466166734695435\n",
      "step 17 loss 1.499731183052063\n",
      "step 18 loss 1.4627355337142944\n",
      "step 19 loss 1.4300384521484375\n",
      "step 20 loss 1.4030559062957764\n",
      "step 21 loss 1.3814430236816406\n",
      "step 22 loss 1.3627195358276367\n",
      "step 23 loss 1.3466485738754272\n",
      "step 24 loss 1.333757996559143\n",
      "step 25 loss 1.3225020170211792\n",
      "step 26 loss 1.3118934631347656\n",
      "step 27 loss 1.3042244911193848\n",
      "step 28 loss 1.2981325387954712\n",
      "step 29 loss 1.2910606861114502\n",
      "step 30 loss 1.2848173379898071\n",
      "step 31 loss 1.2806575298309326\n",
      "step 32 loss 1.276314377784729\n",
      "step 33 loss 1.271892786026001\n",
      "step 34 loss 1.2680336236953735\n",
      "step 35 loss 1.2644727230072021\n",
      "step 36 loss 1.2612485885620117\n",
      "step 37 loss 1.2582378387451172\n",
      "step 38 loss 1.2548871040344238\n",
      "step 39 loss 1.2516874074935913\n",
      "step 40 loss 1.248794674873352\n",
      "step 41 loss 1.2457019090652466\n",
      "step 42 loss 1.2424187660217285\n",
      "step 43 loss 1.2392159700393677\n",
      "step 44 loss 1.235751986503601\n",
      "step 45 loss 1.2321604490280151\n",
      "step 46 loss 1.2282592058181763\n",
      "step 47 loss 1.2237752676010132\n",
      "step 48 loss 1.2191717624664307\n",
      "step 49 loss 1.2136776447296143\n"
     ]
    }
   ],
   "source": [
    "optimizer = optim.AdamW(model.parameters(), lr=3e-4)\n",
    "\n",
    "for i in range(50):\n",
    "    optimizer.zero_grad()\n",
    "    # forward the model\n",
    "    logits, loss = model(x, y)\n",
    "    loss.backward()\n",
    "    optimizer.step()\n",
    "\n",
    "    # if i % 10 == 0:\n",
    "    print(f\"step {i} loss {loss.item()}\")"
   ]
  },
  {
   "cell_type": "code",
   "execution_count": 12,
   "metadata": {},
   "outputs": [],
   "source": [
    "#| export\n",
    "from operator import attrgetter\n",
    "from functools import partial"
   ]
  },
  {
   "cell_type": "code",
   "execution_count": 32,
   "metadata": {},
   "outputs": [],
   "source": [
    "#| export\n",
    "class CancelFitException(Exception): pass\n",
    "class CancelBatchException(Exception): pass\n",
    "class CancelEpochException(Exception): pass"
   ]
  },
  {
   "cell_type": "code",
   "execution_count": 13,
   "metadata": {},
   "outputs": [],
   "source": [
    "#| export\n",
    "class Callback:\n",
    "    order = 0\n",
    "\n",
    "\n",
    "def run_cbs(cbs, method_nm, learn=None):\n",
    "    for cb in sorted(cbs, key=attrgetter(\"order\")):\n",
    "        method = getattr(cb, method_nm, None)\n",
    "        if method is not None:\n",
    "            method(learn)"
   ]
  },
  {
   "cell_type": "code",
   "execution_count": 30,
   "metadata": {},
   "outputs": [],
   "source": [
    "# | export\n",
    "class with_cbs:\n",
    "    def __init__(self, nm):\n",
    "        self.nm = nm\n",
    "\n",
    "    def __call__(self, f):\n",
    "        def _f(o, *args, **kwargs):\n",
    "            try:\n",
    "                o.callback(f\"before_{self.nm}\")\n",
    "                f(o, *args, **kwargs)\n",
    "                o.callback(f\"after_{self.nm}\")\n",
    "            except globals()[f\"Cancel{self.nm.title()}Exception\"]:\n",
    "                pass\n",
    "            finally:\n",
    "                o.callback(f\"cleanup_{self.nm}\")\n",
    "\n",
    "        return _f\n",
    "\n",
    "\n",
    "class Learner:\n",
    "    def __init__(\n",
    "        self,\n",
    "        model,\n",
    "        dls=(0,),\n",
    "        # loss_func=F.cross_entropy,\n",
    "        lr=0.1,\n",
    "        cbs=None,\n",
    "        opt_func=optim.SGD,\n",
    "    ):\n",
    "        self.model = model\n",
    "        self.dls = dls\n",
    "        # self.loss_func = loss_func\n",
    "        self.lr = lr\n",
    "        self.cbs = cbs if cbs else []\n",
    "        self.opt_func = opt_func\n",
    "\n",
    "    @with_cbs(\"batch\")\n",
    "    def _one_batch(self):\n",
    "        self.predict()\n",
    "        self.callback(\"after_predict\")\n",
    "        # self.get_loss()\n",
    "        self.callback(\"after_loss\")\n",
    "        if self.training:\n",
    "            self.backward()\n",
    "            self.callback(\"after_backward\")\n",
    "            self.step()\n",
    "            self.callback(\"after_step\")\n",
    "            self.zero_grad()\n",
    "\n",
    "    @with_cbs(\"epoch\")\n",
    "    def _one_epoch(self):\n",
    "        for self.iter, self.batch in enumerate(self.dl):\n",
    "            self._one_batch()\n",
    "\n",
    "    def one_epoch(self, training=True):\n",
    "        self.model.train(training)\n",
    "        self.dl = self.dls.train if training else self.dls.valid\n",
    "        self._one_epoch()\n",
    "\n",
    "    @with_cbs(\"fit\")\n",
    "    def _fit(self, train, valid):\n",
    "        for self.epoch in self.epochs:\n",
    "            if train:\n",
    "                self.one_epoch(training=True)\n",
    "            if valid:\n",
    "                with torch.no_grad():\n",
    "                    self.one_epoch(False)\n",
    "\n",
    "    def fit(self, n_epochs=1, train=True, valid=True, cbs=None, lr=None):\n",
    "        # `add_cb` and `rm_cb` were added in lesson 18\n",
    "        if cbs is None:\n",
    "            cbs = []\n",
    "        for cb in cbs:\n",
    "            self.cbs.append(cb)\n",
    "        try:\n",
    "            self.n_epochs = n_epochs\n",
    "            self.epochs = range(n_epochs)\n",
    "            if lr is None:\n",
    "                lr = self.lr\n",
    "            if self.opt_func:\n",
    "                self.opt = self.opt_func(self.model.parameters(), lr)\n",
    "            self._fit(train, valid)\n",
    "        finally:\n",
    "            for cb in cbs:\n",
    "                self.cbs.remove(cb)\n",
    "\n",
    "    def __getattr__(self, name):\n",
    "        if name in (\"predict\", \"get_loss\", \"backward\", \"step\", \"zero_grad\"):\n",
    "            return partial(self.callback, name)\n",
    "        raise AttributeError(name)\n",
    "\n",
    "    def callback(self, method_nm):\n",
    "        run_cbs(self.cbs, method_nm, self)\n",
    "\n",
    "    @property\n",
    "    def training(self):\n",
    "        return self.model.training"
   ]
  },
  {
   "cell_type": "code",
   "execution_count": 27,
   "metadata": {},
   "outputs": [],
   "source": [
    "# | export\n",
    "default_device = (\n",
    "    \"mps\"\n",
    "    if torch.backends.mps.is_available()\n",
    "    else \"cuda\" if torch.cuda.is_available() else \"cpu\"\n",
    ")\n",
    "\n",
    "\n",
    "def to_device(x, device=default_device):\n",
    "    if isinstance(x, torch.Tensor):\n",
    "        return x.to(device)\n",
    "    if isinstance(x, Mapping):\n",
    "        return {k: v.to(device) for k, v in x.items()}\n",
    "    return type(x)(to_device(o, device) for o in x)"
   ]
  },
  {
   "cell_type": "code",
   "execution_count": 39,
   "metadata": {},
   "outputs": [],
   "source": [
    "#| export\n",
    "class DeviceCB(Callback):\n",
    "    \"\"\"Put model to device at the beginning of training, and put batch to device before each forward pass.\"\"\"\n",
    "\n",
    "    def __init__(self, device=default_device):\n",
    "        self.device = device\n",
    "\n",
    "    def before_fit(self, learn):\n",
    "        if hasattr(learn.model, \"to\"):\n",
    "            learn.model.to(self.device)\n",
    "\n",
    "    def before_batch(self, learn):\n",
    "        learn.batch = to_device(learn.batch, device=self.device)"
   ]
  },
  {
   "cell_type": "code",
   "execution_count": 43,
   "metadata": {},
   "outputs": [],
   "source": [
    "#| export\n",
    "class TrainCB(Callback):\n",
    "\n",
    "    def predict(self, learn):\n",
    "        # import pdb; pdb.set_trace()\n",
    "        learn.preds, learn.loss = learn.model(*learn.batch)\n",
    "        print(\"epoch\", learn.epoch, \"batch\", learn.iter, \"loss\", learn.loss.item())\n",
    "\n",
    "    def backward(self, learn):\n",
    "        learn.loss.backward()\n",
    "\n",
    "    def step(self, learn):\n",
    "        learn.opt.step()\n",
    "\n",
    "    def zero_grad(self, learn):\n",
    "        learn.opt.zero_grad()"
   ]
  },
  {
   "cell_type": "code",
   "execution_count": 44,
   "metadata": {},
   "outputs": [
    {
     "name": "stdout",
     "output_type": "stream",
     "text": [
      "epoch 0 batch 0 loss 3.884068012237549\n"
     ]
    }
   ],
   "source": [
    "cbs = [TrainCB(), DeviceCB()]\n",
    "lrn = Learner(\n",
    "    model, dls=dls, opt_func=optim.AdamW, cbs=cbs, lr=3e-4\n",
    ")\n",
    "lrn.fit(1, valid=False)"
   ]
  },
  {
   "cell_type": "code",
   "execution_count": null,
   "metadata": {},
   "outputs": [],
   "source": []
  }
 ],
 "metadata": {
  "kernelspec": {
   "display_name": "Python 3 (ipykernel)",
   "language": "python",
   "name": "python3"
  },
  "language_info": {
   "codemirror_mode": {
    "name": "ipython",
    "version": 3
   },
   "file_extension": ".py",
   "mimetype": "text/x-python",
   "name": "python",
   "nbconvert_exporter": "python",
   "pygments_lexer": "ipython3",
   "version": "3.11.9"
  }
 },
 "nbformat": 4,
 "nbformat_minor": 2
}
