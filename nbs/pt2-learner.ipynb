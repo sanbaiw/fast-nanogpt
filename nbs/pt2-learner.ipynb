{
 "cells": [
  {
   "cell_type": "code",
   "execution_count": 1,
   "metadata": {},
   "outputs": [],
   "source": [
    "#| default_exp learner"
   ]
  },
  {
   "cell_type": "code",
   "execution_count": 2,
   "metadata": {},
   "outputs": [],
   "source": [
    "#| export\n",
    "import torch\n",
    "import torch.nn as nn\n",
    "from torch.nn import functional as F\n",
    "from torch.utils.data import DataLoader\n",
    "from torch import optim\n",
    "from typing import Mapping\n",
    "from copy import copy"
   ]
  },
  {
   "cell_type": "code",
   "execution_count": 3,
   "metadata": {},
   "outputs": [],
   "source": [
    "#| export\n",
    "class DataSet:\n",
    "    def __init__(self, x, y): self.x, self.y = x, y\n",
    "    def __len__(self): return len(self.x)\n",
    "    def __getitem__(self, i): return self.x[i], self.y[i]"
   ]
  },
  {
   "cell_type": "code",
   "execution_count": 4,
   "metadata": {},
   "outputs": [],
   "source": [
    "import os\n",
    "import tiktoken\n",
    "\n",
    "cwd = os.getcwd()\n",
    "\n",
    "denc = tiktoken.get_encoding(\"gpt2\")\n",
    "input_file = f\"{cwd}/fast-nanogpt/input.txt\"\n",
    "with open(input_file) as f:\n",
    "    text = f.read()"
   ]
  },
  {
   "cell_type": "code",
   "execution_count": 5,
   "metadata": {},
   "outputs": [
    {
     "data": {
      "text/plain": [
       "(tensor([ 5962, 22307,    25,   198,  8421,   356,  5120,   597,  2252,    11,\n",
       "          3285,   502,  2740,    13,   198,   198,  3237,    25,   198,  5248,\n",
       "           461,    11,  2740,    13,   198,   198,  5962, 22307,    25,   198,\n",
       "          1639,   389], device='cuda:0'),\n",
       " tensor([22307,    25,   198,  8421,   356,  5120,   597,  2252,    11,  3285,\n",
       "           502,  2740,    13,   198,   198,  3237,    25,   198,  5248,   461,\n",
       "            11,  2740,    13,   198,   198,  5962, 22307,    25,   198,  1639,\n",
       "           389,   477], device='cuda:0'))"
      ]
     },
     "execution_count": 5,
     "metadata": {},
     "output_type": "execute_result"
    }
   ],
   "source": [
    "tokens = denc.encode(text[:1000])\n",
    "B, T = 4, 32\n",
    "buf = torch.tensor(tokens[: B * T + 1]).to('cuda')\n",
    "x = buf[:-1].view(B, T)\n",
    "y = buf[1:].view(B, T)\n",
    "\n",
    "x[0], y[0]"
   ]
  },
  {
   "cell_type": "code",
   "execution_count": 6,
   "metadata": {},
   "outputs": [
    {
     "name": "stdout",
     "output_type": "stream",
     "text": [
      "batch 0\n",
      "x.shape, y.shape torch.Size([4, 32]) torch.Size([4, 32])\n"
     ]
    }
   ],
   "source": [
    "ds = DataSet(x, y)\n",
    "dl = DataLoader(ds, batch_size=4)\n",
    "iterdl = iter(dl)\n",
    "\n",
    "for i, (x, y) in enumerate(iterdl):\n",
    "    print(\"batch\", i)\n",
    "    print(\"x.shape, y.shape\", x.shape, y.shape)"
   ]
  },
  {
   "cell_type": "code",
   "execution_count": 7,
   "metadata": {},
   "outputs": [],
   "source": [
    "#| export\n",
    "class DataLoaders:\n",
    "    def __init__(self, *dls):\n",
    "        self.train, self.valid = dls[:2]\n",
    "    \n",
    "    @classmethod\n",
    "    def from_dd(cls, datasets, batch_size, **kwargs):\n",
    "        return cls(*[DataLoader(ds, batch_size=batch_size, **kwargs) for ds in datasets])"
   ]
  },
  {
   "cell_type": "code",
   "execution_count": 8,
   "metadata": {},
   "outputs": [
    {
     "name": "stdout",
     "output_type": "stream",
     "text": [
      "torch.Size([4, 32]) torch.Size([4, 32])\n"
     ]
    }
   ],
   "source": [
    "dls = DataLoaders.from_dd([ds, None], batch_size=4)\n",
    "for x, y in dls.train:\n",
    "    print(x.shape, y.shape)"
   ]
  },
  {
   "cell_type": "code",
   "execution_count": 9,
   "metadata": {},
   "outputs": [],
   "source": [
    "from tinyai.model import get_model"
   ]
  },
  {
   "cell_type": "markdown",
   "metadata": {},
   "source": [
    "## Overfit one batch"
   ]
  },
  {
   "cell_type": "code",
   "execution_count": 10,
   "metadata": {},
   "outputs": [
    {
     "name": "stdout",
     "output_type": "stream",
     "text": [
      "step 0 loss 10.96385383605957\n",
      "step 1 loss 7.438758373260498\n",
      "step 2 loss 5.9899702072143555\n",
      "step 3 loss 4.816177845001221\n",
      "step 4 loss 4.449419021606445\n",
      "step 5 loss 3.7852022647857666\n",
      "step 6 loss 3.3959953784942627\n",
      "step 7 loss 2.9343061447143555\n",
      "step 8 loss 2.6591973304748535\n",
      "step 9 loss 2.3939435482025146\n",
      "step 10 loss 2.203979969024658\n",
      "step 11 loss 2.0710153579711914\n",
      "step 12 loss 1.916163682937622\n",
      "step 13 loss 1.8228553533554077\n",
      "step 14 loss 1.7424712181091309\n",
      "step 15 loss 1.6542805433273315\n",
      "step 16 loss 1.5931313037872314\n",
      "step 17 loss 1.5389171838760376\n",
      "step 18 loss 1.4855793714523315\n",
      "step 19 loss 1.4567785263061523\n",
      "step 20 loss 1.4302048683166504\n",
      "step 21 loss 1.396011471748352\n",
      "step 22 loss 1.3761154413223267\n",
      "step 23 loss 1.3608899116516113\n",
      "step 24 loss 1.3465158939361572\n",
      "step 25 loss 1.3361443281173706\n",
      "step 26 loss 1.3233309984207153\n",
      "step 27 loss 1.3132715225219727\n",
      "step 28 loss 1.3076026439666748\n",
      "step 29 loss 1.2999235391616821\n",
      "step 30 loss 1.2956291437149048\n",
      "step 31 loss 1.2898812294006348\n",
      "step 32 loss 1.283138632774353\n",
      "step 33 loss 1.2814829349517822\n",
      "step 34 loss 1.2779996395111084\n",
      "step 35 loss 1.2728739976882935\n",
      "step 36 loss 1.2709403038024902\n",
      "step 37 loss 1.267922282218933\n",
      "step 38 loss 1.2643706798553467\n",
      "step 39 loss 1.2622181177139282\n",
      "step 40 loss 1.2600653171539307\n",
      "step 41 loss 1.257417917251587\n",
      "step 42 loss 1.2541019916534424\n",
      "step 43 loss 1.252686619758606\n",
      "step 44 loss 1.250319004058838\n",
      "step 45 loss 1.2469762563705444\n",
      "step 46 loss 1.2450627088546753\n",
      "step 47 loss 1.2423268556594849\n",
      "step 48 loss 1.2398298978805542\n",
      "step 49 loss 1.2365102767944336\n"
     ]
    }
   ],
   "source": [
    "model = get_model().to('cuda')\n",
    "optimizer = optim.AdamW(model.parameters(), lr=3e-4)\n",
    "\n",
    "for i in range(50):\n",
    "    optimizer.zero_grad()\n",
    "    # forward the model\n",
    "    logits, loss = model(x, y)\n",
    "    loss.backward()\n",
    "    optimizer.step()\n",
    "\n",
    "    # if i % 10 == 0:\n",
    "    print(f\"step {i} loss {loss.item()}\")"
   ]
  },
  {
   "cell_type": "code",
   "execution_count": 11,
   "metadata": {},
   "outputs": [],
   "source": [
    "#| export\n",
    "from operator import attrgetter\n",
    "from functools import partial"
   ]
  },
  {
   "cell_type": "code",
   "execution_count": 12,
   "metadata": {},
   "outputs": [],
   "source": [
    "#| export\n",
    "class CancelFitException(Exception): pass\n",
    "class CancelBatchException(Exception): pass\n",
    "class CancelEpochException(Exception): pass"
   ]
  },
  {
   "cell_type": "code",
   "execution_count": 13,
   "metadata": {},
   "outputs": [],
   "source": [
    "#| export\n",
    "class Callback:\n",
    "    order = 0\n",
    "\n",
    "\n",
    "def run_cbs(cbs, method_nm, learn=None):\n",
    "    for cb in sorted(cbs, key=attrgetter(\"order\")):\n",
    "        method = getattr(cb, method_nm, None)\n",
    "        if method is not None:\n",
    "            method(learn)"
   ]
  },
  {
   "cell_type": "code",
   "execution_count": 14,
   "metadata": {},
   "outputs": [],
   "source": [
    "# | export\n",
    "class with_cbs:\n",
    "    def __init__(self, nm):\n",
    "        self.nm = nm\n",
    "\n",
    "    def __call__(self, f):\n",
    "        def _f(o, *args, **kwargs):\n",
    "            try:\n",
    "                o.callback(f\"before_{self.nm}\")\n",
    "                f(o, *args, **kwargs)\n",
    "                o.callback(f\"after_{self.nm}\")\n",
    "            except globals()[f\"Cancel{self.nm.title()}Exception\"]:\n",
    "                pass\n",
    "            finally:\n",
    "                o.callback(f\"cleanup_{self.nm}\")\n",
    "\n",
    "        return _f\n",
    "\n",
    "\n",
    "class Learner:\n",
    "    def __init__(\n",
    "        self,\n",
    "        model,\n",
    "        dls=(0,),\n",
    "        lr=0.1,\n",
    "        cbs=None,\n",
    "        opt_func=optim.SGD,\n",
    "    ):\n",
    "        self.model = model\n",
    "        self.dls = dls\n",
    "        self.lr = lr\n",
    "        self.cbs = cbs if cbs else []\n",
    "        self.opt_func = opt_func\n",
    "\n",
    "    @with_cbs(\"batch\")\n",
    "    def _one_batch(self):\n",
    "        self.predict()\n",
    "        self.callback(\"after_predict\")\n",
    "        # self.get_loss()\n",
    "        # self.callback(\"after_loss\")\n",
    "        if self.training:\n",
    "            self.backward()\n",
    "            self.callback(\"after_backward\")\n",
    "            self.step()\n",
    "            self.callback(\"after_step\")\n",
    "            self.zero_grad()\n",
    "\n",
    "    @with_cbs(\"epoch\")\n",
    "    def _one_epoch(self):\n",
    "        for self.iter, self.batch in enumerate(self.dl):\n",
    "            self._one_batch()\n",
    "\n",
    "    def one_epoch(self, training=True):\n",
    "        self.model.train(training)\n",
    "        self.dl = self.dls.train if training else self.dls.valid\n",
    "        self._one_epoch()\n",
    "\n",
    "    @with_cbs(\"fit\")\n",
    "    def _fit(self, train, valid):\n",
    "        for self.epoch in self.epochs:\n",
    "            if train:\n",
    "                self.one_epoch(training=True)\n",
    "            if valid:\n",
    "                with torch.no_grad():\n",
    "                    self.one_epoch(False)\n",
    "\n",
    "    def fit(self, n_epochs=1, train=True, valid=True, cbs=None, lr=None):\n",
    "        if cbs is None:\n",
    "            cbs = []\n",
    "        for cb in cbs:\n",
    "            self.cbs.append(cb)\n",
    "        try:\n",
    "            self.n_epochs = n_epochs\n",
    "            self.epochs = range(n_epochs)\n",
    "            if lr is None:\n",
    "                lr = self.lr\n",
    "            if self.opt_func:\n",
    "                self.opt = self.opt_func(self.model.parameters(), lr)\n",
    "            self._fit(train, valid)\n",
    "        finally:\n",
    "            for cb in cbs:\n",
    "                self.cbs.remove(cb)\n",
    "\n",
    "    def __getattr__(self, name):\n",
    "        if name in (\"predict\", \"get_loss\", \"backward\", \"step\", \"zero_grad\"):\n",
    "            return partial(self.callback, name)\n",
    "        raise AttributeError(name)\n",
    "\n",
    "    def callback(self, method_nm):\n",
    "        run_cbs(self.cbs, method_nm, self)\n",
    "\n",
    "    @property\n",
    "    def training(self):\n",
    "        return self.model.training"
   ]
  },
  {
   "cell_type": "code",
   "execution_count": 15,
   "metadata": {},
   "outputs": [],
   "source": [
    "# | export\n",
    "default_device = (\n",
    "    \"mps\"\n",
    "    if torch.backends.mps.is_available()\n",
    "    else \"cuda\" if torch.cuda.is_available() else \"cpu\"\n",
    ")\n",
    "\n",
    "\n",
    "def to_device(x, device=default_device):\n",
    "    if isinstance(x, torch.Tensor):\n",
    "        return x.to(device)\n",
    "    if isinstance(x, Mapping):\n",
    "        return {k: v.to(device) for k, v in x.items()}\n",
    "    return type(x)(to_device(o, device) for o in x)"
   ]
  },
  {
   "cell_type": "code",
   "execution_count": 16,
   "metadata": {},
   "outputs": [],
   "source": [
    "#| export\n",
    "class DeviceCB(Callback):\n",
    "    \"\"\"Put model to device at the beginning of training, and put batch to device before each forward pass.\"\"\"\n",
    "\n",
    "    def __init__(self, device=default_device):\n",
    "        self.device = device\n",
    "\n",
    "    def before_fit(self, learn):\n",
    "        if hasattr(learn.model, \"to\"):\n",
    "            learn.model.to(self.device)\n",
    "\n",
    "    def before_batch(self, learn):\n",
    "        learn.batch = to_device(learn.batch, device=self.device)"
   ]
  },
  {
   "cell_type": "code",
   "execution_count": 17,
   "metadata": {},
   "outputs": [],
   "source": [
    "#| export\n",
    "class TrainCB(Callback):\n",
    "\n",
    "    def predict(self, learn):\n",
    "        # import pdb; pdb.set_trace()\n",
    "        learn.preds, learn.loss = learn.model(*learn.batch)\n",
    "        # print(\"epoch\", learn.epoch, \"step\", learn.iter, \"loss\", learn.loss.item())\n",
    "\n",
    "    def backward(self, learn):\n",
    "        learn.loss.backward()\n",
    "\n",
    "    def step(self, learn):\n",
    "        learn.opt.step()\n",
    "\n",
    "    def zero_grad(self, learn):\n",
    "        learn.opt.zero_grad()"
   ]
  },
  {
   "cell_type": "code",
   "execution_count": 18,
   "metadata": {},
   "outputs": [],
   "source": [
    "cbs = [TrainCB(), DeviceCB()]\n",
    "model = get_model()"
   ]
  },
  {
   "cell_type": "code",
   "execution_count": 19,
   "metadata": {},
   "outputs": [],
   "source": [
    "lrn = Learner(model, dls=dls, opt_func=optim.AdamW, cbs=cbs, lr=3e-4)\n",
    "lrn.fit(1, valid=False)"
   ]
  },
  {
   "cell_type": "code",
   "execution_count": 20,
   "metadata": {},
   "outputs": [],
   "source": [
    "class OverfitLearner(Learner):\n",
    "\n",
    "    def fit(self, n_epochs=1, train=True, valid=True, cbs=None, lr=None, n_repeat=50):\n",
    "        self.n_repeat = n_repeat\n",
    "        super().fit(n_epochs, train, valid, cbs, lr)\n",
    "\n",
    "    @with_cbs(\"epoch\")\n",
    "    def _one_epoch(self):\n",
    "        for self.iter in range(self.n_repeat):\n",
    "            for self.batch in self.dl:\n",
    "                self._one_batch()\n"
   ]
  },
  {
   "cell_type": "markdown",
   "metadata": {},
   "source": [
    "## Overfit one batch with learner"
   ]
  },
  {
   "cell_type": "code",
   "execution_count": 21,
   "metadata": {},
   "outputs": [],
   "source": [
    "model = get_model()\n",
    "lrn = OverfitLearner(model, dls=dls, opt_func=optim.AdamW, cbs=cbs, lr=3e-4)\n",
    "lrn.fit(1, valid=False, n_repeat=50)"
   ]
  },
  {
   "cell_type": "markdown",
   "metadata": {},
   "source": [
    "## More callbacks"
   ]
  },
  {
   "cell_type": "code",
   "execution_count": 22,
   "metadata": {},
   "outputs": [],
   "source": [
    "#| export\n",
    "from torcheval.metrics import Mean"
   ]
  },
  {
   "cell_type": "code",
   "execution_count": 23,
   "metadata": {},
   "outputs": [],
   "source": [
    "#| export\n",
    "def to_cpu(x):\n",
    "    if isinstance(x, Mapping):\n",
    "        return {k: to_cpu(v) for k, v in x.items()}\n",
    "    if isinstance(x, list):\n",
    "        return [to_cpu(o) for o in x]\n",
    "    if isinstance(x, tuple):\n",
    "        return tuple(to_cpu(list(x)))\n",
    "    res = x.detach().cpu()\n",
    "    return res.float() if res.dtype == torch.float16 else res\n",
    "\n",
    "\n",
    "class MetricsCB(Callback):\n",
    "    def __init__(self, *ms, **metrics):\n",
    "        for o in ms:\n",
    "            metrics[type(o).__name__] = o\n",
    "        self.metrics = metrics\n",
    "        self.all_metrics = copy(metrics)\n",
    "        self.all_metrics[\"loss\"] = self.loss = Mean()\n",
    "\n",
    "    def _log(self, d):\n",
    "        print(d)\n",
    "\n",
    "    def before_fit(self, learn):\n",
    "        learn.metrics = self\n",
    "\n",
    "    def before_epoch(self, learn):\n",
    "        [o.reset() for o in self.all_metrics.values()]\n",
    "\n",
    "    def after_epoch(self, learn):\n",
    "        log = {k: f\"{v.compute():.3f}\" for k, v in self.all_metrics.items()}\n",
    "        # log[\"epoch\"] = f\"{learn.epoch}\"\n",
    "        log[\"epoch\"] = learn.epoch\n",
    "        log[\"train\"] = \"train\" if learn.model.training else \"eval\"\n",
    "        self._log(log)\n",
    "\n",
    "    def after_batch(self, learn):\n",
    "        x, y, *_ = to_cpu(learn.batch)\n",
    "        for m in self.metrics.values():\n",
    "            m.update(to_cpu(learn.preds), y)\n",
    "        self.loss.update(to_cpu(learn.loss), weight=len(x))"
   ]
  },
  {
   "cell_type": "code",
   "execution_count": 24,
   "metadata": {},
   "outputs": [],
   "source": [
    "#| export\n",
    "from fastprogress import progress_bar, master_bar\n",
    "import fastcore.all as fc"
   ]
  },
  {
   "cell_type": "code",
   "execution_count": 25,
   "metadata": {},
   "outputs": [],
   "source": [
    "# | export\n",
    "class ProgressCB(Callback):\n",
    "    order = MetricsCB.order + 1\n",
    "\n",
    "    def __init__(self, plot=False):\n",
    "        self.plot = plot\n",
    "\n",
    "    def before_fit(self, learn):\n",
    "        learn.epochs = self.mbar = master_bar(learn.epochs)\n",
    "        self.first = True\n",
    "        if hasattr(learn, \"metrics\"):\n",
    "            learn.metrics._log = self._log\n",
    "        self.losses = []\n",
    "        self.val_losses = []\n",
    "\n",
    "    def _log(self, d):\n",
    "        if self.first:\n",
    "            self.mbar.write(list(d), table=True)\n",
    "            self.first = False\n",
    "        # import pdb; pdb.set_trace()\n",
    "        self.mbar.write(list(d.values()), table=True)\n",
    "\n",
    "    def before_epoch(self, learn):\n",
    "        learn.dl = progress_bar(learn.dl, leave=False, parent=self.mbar)\n",
    "\n",
    "    def after_batch(self, learn):\n",
    "        learn.dl.comment = f\"{learn.loss:.3f}\"\n",
    "        if self.plot and hasattr(learn, \"metrics\") and learn.training:\n",
    "            self.losses.append(learn.loss.item())\n",
    "            if self.val_losses:\n",
    "                graphs = [\n",
    "                    [fc.L.range(self.losses), self.losses],\n",
    "                    [\n",
    "                        fc.L.range(learn.epoch).map(\n",
    "                            lambda x: (x + 1) * len(learn.dls.train)\n",
    "                        ),\n",
    "                        self.val_losses,\n",
    "                    ],\n",
    "                ]\n",
    "            else:\n",
    "                graphs = [[fc.L.range(self.losses), self.losses]]\n",
    "            self.mbar.update_graph(graphs)\n",
    "\n",
    "    def after_epoch(self, learn):\n",
    "        if self.plot and hasattr(learn, \"metrics\"):\n",
    "            if not learn.training:\n",
    "                self.val_losses.append(learn.metrics.all_metrics[\"loss\"].compute())\n",
    "                graphs = [\n",
    "                    [fc.L.range(self.losses), self.losses],\n",
    "                    [\n",
    "                        fc.L.range(learn.epoch + 1).map(\n",
    "                            lambda x: (x + 1) * len(learn.dls.train)\n",
    "                        ),\n",
    "                        self.val_losses,\n",
    "                    ],\n",
    "                ]\n",
    "            else:\n",
    "                graphs = [[fc.L.range(self.losses), self.losses]]\n",
    "            self.mbar.update_graph(graphs)"
   ]
  },
  {
   "cell_type": "code",
   "execution_count": 28,
   "metadata": {},
   "outputs": [
    {
     "data": {
      "text/html": [
       "\n",
       "<style>\n",
       "    /* Turns off some styling */\n",
       "    progress {\n",
       "        /* gets rid of default border in Firefox and Opera. */\n",
       "        border: none;\n",
       "        /* Needs to be in here for Safari polyfill so background images work as expected. */\n",
       "        background-size: auto;\n",
       "    }\n",
       "    progress:not([value]), progress:not([value])::-webkit-progress-bar {\n",
       "        background: repeating-linear-gradient(45deg, #7e7e7e, #7e7e7e 10px, #5c5c5c 10px, #5c5c5c 20px);\n",
       "    }\n",
       "    .progress-bar-interrupted, .progress-bar-interrupted::-webkit-progress-bar {\n",
       "        background: #F44336;\n",
       "    }\n",
       "</style>\n"
      ],
      "text/plain": [
       "<IPython.core.display.HTML object>"
      ]
     },
     "metadata": {},
     "output_type": "display_data"
    },
    {
     "data": {
      "text/html": [
       "<table border=\"1\" class=\"dataframe\">\n",
       "  <thead>\n",
       "    <tr style=\"text-align: left;\">\n",
       "      <th>loss</th>\n",
       "      <th>epoch</th>\n",
       "      <th>train</th>\n",
       "    </tr>\n",
       "  </thead>\n",
       "  <tbody>\n",
       "    <tr>\n",
       "      <td>2.042</td>\n",
       "      <td>0</td>\n",
       "      <td>train</td>\n",
       "    </tr>\n",
       "    <tr>\n",
       "      <td>1.223</td>\n",
       "      <td>1</td>\n",
       "      <td>train</td>\n",
       "    </tr>\n",
       "  </tbody>\n",
       "</table>"
      ],
      "text/plain": [
       "<IPython.core.display.HTML object>"
      ]
     },
     "metadata": {},
     "output_type": "display_data"
    }
   ],
   "source": [
    "model = get_model()\n",
    "cbs = [TrainCB(), DeviceCB(), MetricsCB(), ProgressCB()]\n",
    "lrn = OverfitLearner(model, dls=dls, opt_func=optim.AdamW, cbs=cbs, lr=3e-4)\n",
    "lrn.fit(2, valid=False)"
   ]
  },
  {
   "cell_type": "code",
   "execution_count": null,
   "metadata": {},
   "outputs": [],
   "source": []
  }
 ],
 "metadata": {
  "kernelspec": {
   "display_name": "Python 3 (ipykernel)",
   "language": "python",
   "name": "python3"
  }
 },
 "nbformat": 4,
 "nbformat_minor": 2
}
